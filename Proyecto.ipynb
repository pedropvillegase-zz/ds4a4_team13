{
 "cells": [
  {
   "cell_type": "markdown",
   "metadata": {},
   "source": [
    "# Acomodación y renta, caso AirBNB\n",
    "\n",
    "## Equipo No. 13 DS4A 4.0 Colombia\n"
   ]
  },
  {
   "cell_type": "code",
   "execution_count": 2,
   "metadata": {},
   "outputs": [],
   "source": [
    "# Utils\n",
    "import pandas as pd"
   ]
  },
  {
   "cell_type": "markdown",
   "metadata": {},
   "source": [
    "---\n",
    "# Zillow Economics Data\n",
    "\n",
    "AED de los datos que se encuentran en la página de [Kaggle](https://www.kaggle.com/zillow/zecon).\n",
    ">\n",
    "Context:\n",
    ">\n",
    "Zillow's Economic Research Team collects, cleans and publishes housing and economic data from a variety of public and proprietary sources. Public property record data filed with local municipalities -- including deeds, property facts, parcel information and transactional histories -- forms the backbone of our data products, and is fleshed out with proprietary data derived from property listings and user behavior on Zillow.\n",
    ">\n",
    "The large majority of Zillow's aggregated housing market and economic data is made available for free download at zillow.com/data.\n",
    ">\n",
    "Content\n",
    "Variable Availability:\n",
    ">\n",
    "Zillow Home Value Index (ZHVI): A smoothed seasonally adjusted measure of the median estimated home value across a given region and housing type. A dollar denominated alternative to repeat-sales indices. Find a more detailed methodology here: http://www.zillow.com/research/zhvi-methodology-6032/\n",
    "> \n",
    "> Zillow Rent Index (ZRI): A smoothed seasonally adjusted measure of the median estimated market rate rent across a given region and housing type. A dollar denominated alternative to repeat-rent indices. Find a more detailed methodology here: http://www.zillow.com/research/zillow-rent-index-methodology-2393/\n",
    ">\n",
    "> For-Sale Listing/Inventory Metrics: Zillow provides many variables capturing current and historical for-sale listings availability, generally from 2012 to current. These variables include median list prices and inventory counts, both by various property types. Variables capturing for-sale market competitiveness including share of listings with a price cut, median price cut size, age of inventory, and the days a listing spend on Zillow before the sale is final.\n",
    ">\n",
    "> Home Sales Metrics: Zillow provides data on sold homes including median sale price by various housing types, sale counts (methodology here: http://www.zillow.com/research/home-sales-methodology-7733/), and a normalized view of sale volume referred to as turnover. The prevalence of foreclosures is also provided as ratio of the housing stock and the share of all sales in which the home was previously foreclosed upon.\n",
    ">\n",
    "For-Rent Listing Metrics: Zillow provides median rents prices and median rent price per square foot by property type and bedroom count.\n",
    ">\n",
    "Housing type definitions:\n",
    ">\n",
    "All Homes: Zillow defines all homes as single-family, condominium and co-operative homes with a county record. Unless specified, all series cover this segment of the housing stock.\n",
    ">\n",
    "Condo/Co-op: Condominium and co-operative homes.\n",
    ">\n",
    "Multifamily 5+ units: Units in buildings with 5 or more housing units, that are not a condominiums or co-ops.\n",
    ">\n",
    "Duplex/Triplex: Housing units in buildings with 2 or 3 housing units.\n",
    ">\n",
    "Tiers: By metro, we determine price tier cutoffs that divide the all homes housing stock into thirds using the full distribution of estimated home values. We then estimate real estate metrics within the property sets, Bottom, Middle, and Top, defined by these cutoffs. When reported at the national level, all Bottom Tier homes defined at the metro level are pooled together to form the national bottom tier. The same holds for Middle and Top Tier homes.\n",
    ">\n",
    "Regional Availability:\n",
    ">\n",
    "Zillow metrics are reported for common US geographies including Nation, State, Metro (2013 Census Defined CBSAs), County, City, ZIP code, and Neighborhood.\n",
    ">\n",
    "We provide a crosswalk between colloquial Zillow region names and federally defined region names and linking variables such as County FIPS codes and CBSA codes. Cities and Neighborhoods do not match standard jurisdictional boundaries. Zillow city boundaries reflect mailing address conventions and so are often visually similar to collections of ZIP codes. Zillow neighborhood boundaries can be found here.\n",
    ">\n",
    "Suppression Rules: To ensure reliability of reported values the Zillow Economic Research team applies suppression rules triggered by low sample sizes and excessive volatility. These rules are customized to the metric and region type and explain most missingness found in the provided datasets.\n",
    ">\n",
    "Additional Data Products\n",
    ">\n",
    "The following data products and more are available for free download exclusively at Zillow.com/Data:\n",
    ">\n",
    "Zillow Home Value Forecast\n",
    "Zillow Rent Forecast\n",
    "Negative Equity (the share of mortgaged properties worth less than\n",
    "mortgage balance)\n",
    "Zillow Home Price Expectations Survey\n",
    "Zillow Housing Aspirations Report\n",
    "Zillow Rising Sea Levels Research\n",
    "Cash Buyers Time Series\n",
    "Buy vs. Rent Breakeven Horizon\n",
    "Mortgage Affordability, Rental Affordability, Price-to-Income Ratio\n",
    "Conventional 30-year Fixed Mortgage Rate, Weekly Time Series\n",
    "Jumbo 30-year Fixed Mortgage Rates, Weekly Time Series\n",
    "Acknowledgements\n",
    "The mission of the Zillow Economic Research Team is to be the most open, authoritative source for timely and accurate housing data and unbiased insight. We aim to empower consumers, industry professionals, policy makers and researchers looking to better understand the housing market.\n",
    ">\n",
    "To see more of our mission in action, we invite you to learn more about us and to check out our collection of research briefs, stories, data tools and past presentations at https://www.zillow.com/research/\n",
    ">\n",
    "Inspiration\n",
    "Zillow, and the Zillow Economic Research Team, firmly believe that not only do data want to be free, data are going to be free. Instead of simply publishing raw data, we believe in the power of pushing data up the ladder from raw data bits, to actionable information and finally to unique insight. We aim to answer questions of all kinds, even questions our users may not have known they had before coming to us. When done right, we firmly believe this process of turning data into insight can be transformational in people's lives.\n",
    ">\n",
    "Please join us on this journey, and we're excited to see what insights you can discover hidden amongst our data!"
   ]
  },
  {
   "cell_type": "markdown",
   "metadata": {},
   "source": [
    "## Tablas ZECON\n",
    "\n",
    "* Zip_time_series.csv\n",
    "* City_time_series.csv\n",
    "* Neighborhood_time_series.csv\n",
    "* County_time_series.csv\n",
    "* Metro_time_series.csv\n",
    "* CountyCrossWalk_Zillow.csv\n",
    "* cities_crosswalk.csv\n",
    "* DataDictionary.csv\n",
    "* all_available_metrics.json\n",
    "* fields_per_level.json"
   ]
  },
  {
   "cell_type": "code",
   "execution_count": null,
   "metadata": {},
   "outputs": [],
   "source": []
  },
  {
   "cell_type": "markdown",
   "metadata": {},
   "source": [
    "### Zip_time_series.csv "
   ]
  },
  {
   "cell_type": "code",
   "execution_count": null,
   "metadata": {},
   "outputs": [],
   "source": [
    "df_zip"
   ]
  }
 ],
 "metadata": {
  "kernelspec": {
   "display_name": "Python 3",
   "language": "python",
   "name": "python3"
  },
  "language_info": {
   "codemirror_mode": {
    "name": "ipython",
    "version": 3
   },
   "file_extension": ".py",
   "mimetype": "text/x-python",
   "name": "python",
   "nbconvert_exporter": "python",
   "pygments_lexer": "ipython3",
   "version": "3.8.5"
  }
 },
 "nbformat": 4,
 "nbformat_minor": 4
}
