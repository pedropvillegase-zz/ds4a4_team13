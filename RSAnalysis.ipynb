{
 "metadata": {
  "language_info": {
   "codemirror_mode": {
    "name": "ipython",
    "version": 3
   },
   "file_extension": ".py",
   "mimetype": "text/x-python",
   "name": "python",
   "nbconvert_exporter": "python",
   "pygments_lexer": "ipython3",
   "version": "3.8.5-final"
  },
  "orig_nbformat": 2,
  "kernelspec": {
   "name": "python3",
   "display_name": "Python 3",
   "language": "python"
  }
 },
 "nbformat": 4,
 "nbformat_minor": 2,
 "cells": [
  {
   "cell_type": "code",
   "execution_count": 57,
   "metadata": {},
   "outputs": [],
   "source": [
    "#import requests\n",
    "from bs4 import BeautifulSoup\n",
    "import pandas as pd\n",
    "import matplotlib.pyplot as plt\n",
    "import seaborn as sns\n",
    "import numpy as np\n",
    "import statsmodels.api as sm\n",
    "from statsmodels.formula.api import ols\n",
    "import statsmodels\n",
    "from scipy import stats"
   ]
  },
  {
   "cell_type": "code",
   "execution_count": 58,
   "metadata": {},
   "outputs": [
    {
     "output_type": "execute_result",
     "data": {
      "text/plain": [
       "       type  zipcode             city state            metro        county  \\\n",
       "0      ZHVI    10025         New York    NY         New York      New York   \n",
       "1      ZHVI    60657          Chicago    IL          Chicago          Cook   \n",
       "2      ZHVI    60614          Chicago    IL          Chicago          Cook   \n",
       "3      ZHVI    79936          El Paso    TX          El Paso       El Paso   \n",
       "4      ZHVI    60640          Chicago    IL          Chicago          Cook   \n",
       "...     ...      ...              ...   ...              ...           ...   \n",
       "29106   ZRI    12720           Bethel    NY              NaN      Sullivan   \n",
       "29107   ZRI     1338  Shelburne Falls    MA  Greenfield Town      Franklin   \n",
       "29108   ZRI    21405        Annapolis    MD        Baltimore  Anne Arundel   \n",
       "29109   ZRI    85220  Apache Junction    AZ          Phoenix         Pinal   \n",
       "29110   ZRI    89595             Reno    NV             Reno        Washoe   \n",
       "\n",
       "       size_rank   1996-04   1996-05   1996-06  ...  2016-09  2016-10  \\\n",
       "0              1       NaN       NaN       NaN  ...  1137500  1137700   \n",
       "1              2  146700.0  146500.0  146300.0  ...   318200   318100   \n",
       "2              3  198000.0  195500.0  194200.0  ...   401900   406000   \n",
       "3              4   70800.0   71000.0   71000.0  ...   113800   113900   \n",
       "4              5  102300.0  101300.0  100700.0  ...   198800   199200   \n",
       "...          ...       ...       ...       ...  ...      ...      ...   \n",
       "29106      15907       NaN       NaN       NaN  ...     1185     1181   \n",
       "29107      15908       NaN       NaN       NaN  ...     1769     1772   \n",
       "29108      15909       NaN       NaN       NaN  ...     4048     4005   \n",
       "29109      15910       NaN       NaN       NaN  ...     1007     1018   \n",
       "29110      15911       NaN       NaN       NaN  ...      872      877   \n",
       "\n",
       "       2016-11    2016-12  2017-01  2017-02  2017-03  2017-04  2017-05  \\\n",
       "0      1152700  1156000.0  1140200  1130000  1131900  1149600  1198400   \n",
       "1       318800   320200.0   320800   322000   323800   326100   327800   \n",
       "2       414100   417800.0   417400   418400   414100   404100   406400   \n",
       "3       114100   114500.0   114900   115000   114700   114700   114800   \n",
       "4       200100   201500.0   203000   205100   206700   206500   206200   \n",
       "...        ...        ...      ...      ...      ...      ...      ...   \n",
       "29106     1174     1167.0     1156     1162     1175     1194     1202   \n",
       "29107     1775     1780.0     1786     1790     1797     1798     1796   \n",
       "29108     3888     3729.0     3563     3493     3474     3496     3488   \n",
       "29109     1035     1052.0     1061     1060     1058     1065     1074   \n",
       "29110      871      863.0      843      826      816      820      838   \n",
       "\n",
       "       2017-06  \n",
       "0      1247000  \n",
       "1       329100  \n",
       "2       415500  \n",
       "3       114700  \n",
       "4       206700  \n",
       "...        ...  \n",
       "29106     1206  \n",
       "29107     1795  \n",
       "29108     3471  \n",
       "29109     1080  \n",
       "29110      848  \n",
       "\n",
       "[29111 rows x 262 columns]"
      ],
      "text/html": "<div>\n<style scoped>\n    .dataframe tbody tr th:only-of-type {\n        vertical-align: middle;\n    }\n\n    .dataframe tbody tr th {\n        vertical-align: top;\n    }\n\n    .dataframe thead th {\n        text-align: right;\n    }\n</style>\n<table border=\"1\" class=\"dataframe\">\n  <thead>\n    <tr style=\"text-align: right;\">\n      <th></th>\n      <th>type</th>\n      <th>zipcode</th>\n      <th>city</th>\n      <th>state</th>\n      <th>metro</th>\n      <th>county</th>\n      <th>size_rank</th>\n      <th>1996-04</th>\n      <th>1996-05</th>\n      <th>1996-06</th>\n      <th>...</th>\n      <th>2016-09</th>\n      <th>2016-10</th>\n      <th>2016-11</th>\n      <th>2016-12</th>\n      <th>2017-01</th>\n      <th>2017-02</th>\n      <th>2017-03</th>\n      <th>2017-04</th>\n      <th>2017-05</th>\n      <th>2017-06</th>\n    </tr>\n  </thead>\n  <tbody>\n    <tr>\n      <th>0</th>\n      <td>ZHVI</td>\n      <td>10025</td>\n      <td>New York</td>\n      <td>NY</td>\n      <td>New York</td>\n      <td>New York</td>\n      <td>1</td>\n      <td>NaN</td>\n      <td>NaN</td>\n      <td>NaN</td>\n      <td>...</td>\n      <td>1137500</td>\n      <td>1137700</td>\n      <td>1152700</td>\n      <td>1156000.0</td>\n      <td>1140200</td>\n      <td>1130000</td>\n      <td>1131900</td>\n      <td>1149600</td>\n      <td>1198400</td>\n      <td>1247000</td>\n    </tr>\n    <tr>\n      <th>1</th>\n      <td>ZHVI</td>\n      <td>60657</td>\n      <td>Chicago</td>\n      <td>IL</td>\n      <td>Chicago</td>\n      <td>Cook</td>\n      <td>2</td>\n      <td>146700.0</td>\n      <td>146500.0</td>\n      <td>146300.0</td>\n      <td>...</td>\n      <td>318200</td>\n      <td>318100</td>\n      <td>318800</td>\n      <td>320200.0</td>\n      <td>320800</td>\n      <td>322000</td>\n      <td>323800</td>\n      <td>326100</td>\n      <td>327800</td>\n      <td>329100</td>\n    </tr>\n    <tr>\n      <th>2</th>\n      <td>ZHVI</td>\n      <td>60614</td>\n      <td>Chicago</td>\n      <td>IL</td>\n      <td>Chicago</td>\n      <td>Cook</td>\n      <td>3</td>\n      <td>198000.0</td>\n      <td>195500.0</td>\n      <td>194200.0</td>\n      <td>...</td>\n      <td>401900</td>\n      <td>406000</td>\n      <td>414100</td>\n      <td>417800.0</td>\n      <td>417400</td>\n      <td>418400</td>\n      <td>414100</td>\n      <td>404100</td>\n      <td>406400</td>\n      <td>415500</td>\n    </tr>\n    <tr>\n      <th>3</th>\n      <td>ZHVI</td>\n      <td>79936</td>\n      <td>El Paso</td>\n      <td>TX</td>\n      <td>El Paso</td>\n      <td>El Paso</td>\n      <td>4</td>\n      <td>70800.0</td>\n      <td>71000.0</td>\n      <td>71000.0</td>\n      <td>...</td>\n      <td>113800</td>\n      <td>113900</td>\n      <td>114100</td>\n      <td>114500.0</td>\n      <td>114900</td>\n      <td>115000</td>\n      <td>114700</td>\n      <td>114700</td>\n      <td>114800</td>\n      <td>114700</td>\n    </tr>\n    <tr>\n      <th>4</th>\n      <td>ZHVI</td>\n      <td>60640</td>\n      <td>Chicago</td>\n      <td>IL</td>\n      <td>Chicago</td>\n      <td>Cook</td>\n      <td>5</td>\n      <td>102300.0</td>\n      <td>101300.0</td>\n      <td>100700.0</td>\n      <td>...</td>\n      <td>198800</td>\n      <td>199200</td>\n      <td>200100</td>\n      <td>201500.0</td>\n      <td>203000</td>\n      <td>205100</td>\n      <td>206700</td>\n      <td>206500</td>\n      <td>206200</td>\n      <td>206700</td>\n    </tr>\n    <tr>\n      <th>...</th>\n      <td>...</td>\n      <td>...</td>\n      <td>...</td>\n      <td>...</td>\n      <td>...</td>\n      <td>...</td>\n      <td>...</td>\n      <td>...</td>\n      <td>...</td>\n      <td>...</td>\n      <td>...</td>\n      <td>...</td>\n      <td>...</td>\n      <td>...</td>\n      <td>...</td>\n      <td>...</td>\n      <td>...</td>\n      <td>...</td>\n      <td>...</td>\n      <td>...</td>\n      <td>...</td>\n    </tr>\n    <tr>\n      <th>29106</th>\n      <td>ZRI</td>\n      <td>12720</td>\n      <td>Bethel</td>\n      <td>NY</td>\n      <td>NaN</td>\n      <td>Sullivan</td>\n      <td>15907</td>\n      <td>NaN</td>\n      <td>NaN</td>\n      <td>NaN</td>\n      <td>...</td>\n      <td>1185</td>\n      <td>1181</td>\n      <td>1174</td>\n      <td>1167.0</td>\n      <td>1156</td>\n      <td>1162</td>\n      <td>1175</td>\n      <td>1194</td>\n      <td>1202</td>\n      <td>1206</td>\n    </tr>\n    <tr>\n      <th>29107</th>\n      <td>ZRI</td>\n      <td>1338</td>\n      <td>Shelburne Falls</td>\n      <td>MA</td>\n      <td>Greenfield Town</td>\n      <td>Franklin</td>\n      <td>15908</td>\n      <td>NaN</td>\n      <td>NaN</td>\n      <td>NaN</td>\n      <td>...</td>\n      <td>1769</td>\n      <td>1772</td>\n      <td>1775</td>\n      <td>1780.0</td>\n      <td>1786</td>\n      <td>1790</td>\n      <td>1797</td>\n      <td>1798</td>\n      <td>1796</td>\n      <td>1795</td>\n    </tr>\n    <tr>\n      <th>29108</th>\n      <td>ZRI</td>\n      <td>21405</td>\n      <td>Annapolis</td>\n      <td>MD</td>\n      <td>Baltimore</td>\n      <td>Anne Arundel</td>\n      <td>15909</td>\n      <td>NaN</td>\n      <td>NaN</td>\n      <td>NaN</td>\n      <td>...</td>\n      <td>4048</td>\n      <td>4005</td>\n      <td>3888</td>\n      <td>3729.0</td>\n      <td>3563</td>\n      <td>3493</td>\n      <td>3474</td>\n      <td>3496</td>\n      <td>3488</td>\n      <td>3471</td>\n    </tr>\n    <tr>\n      <th>29109</th>\n      <td>ZRI</td>\n      <td>85220</td>\n      <td>Apache Junction</td>\n      <td>AZ</td>\n      <td>Phoenix</td>\n      <td>Pinal</td>\n      <td>15910</td>\n      <td>NaN</td>\n      <td>NaN</td>\n      <td>NaN</td>\n      <td>...</td>\n      <td>1007</td>\n      <td>1018</td>\n      <td>1035</td>\n      <td>1052.0</td>\n      <td>1061</td>\n      <td>1060</td>\n      <td>1058</td>\n      <td>1065</td>\n      <td>1074</td>\n      <td>1080</td>\n    </tr>\n    <tr>\n      <th>29110</th>\n      <td>ZRI</td>\n      <td>89595</td>\n      <td>Reno</td>\n      <td>NV</td>\n      <td>Reno</td>\n      <td>Washoe</td>\n      <td>15911</td>\n      <td>NaN</td>\n      <td>NaN</td>\n      <td>NaN</td>\n      <td>...</td>\n      <td>872</td>\n      <td>877</td>\n      <td>871</td>\n      <td>863.0</td>\n      <td>843</td>\n      <td>826</td>\n      <td>816</td>\n      <td>820</td>\n      <td>838</td>\n      <td>848</td>\n    </tr>\n  </tbody>\n</table>\n<p>29111 rows × 262 columns</p>\n</div>"
     },
     "metadata": {},
     "execution_count": 58
    }
   ],
   "source": [
    "realestate_df= pd.read_csv('data/real_estate.csv')\n",
    "realestate_df"
   ]
  },
  {
   "source": [
    "## Realestate Shape"
   ],
   "cell_type": "markdown",
   "metadata": {}
  },
  {
   "cell_type": "code",
   "execution_count": 59,
   "metadata": {},
   "outputs": [
    {
     "output_type": "stream",
     "name": "stdout",
     "text": [
      "Real Estate shape:  (29111, 262)\n"
     ]
    }
   ],
   "source": [
    "print ('Real Estate shape: ', realestate_df.shape)"
   ]
  },
  {
   "source": [
    "## Real Estate Columns Name"
   ],
   "cell_type": "markdown",
   "metadata": {}
  },
  {
   "cell_type": "code",
   "execution_count": 60,
   "metadata": {},
   "outputs": [
    {
     "output_type": "stream",
     "name": "stdout",
     "text": [
      "Real Estate Column Names:  ['type' 'zipcode' 'city' 'state' 'metro' 'county' 'size_rank' '1996-04'\n '1996-05' '1996-06' '1996-07' '1996-08' '1996-09' '1996-10' '1996-11'\n '1996-12' '1997-01' '1997-02' '1997-03' '1997-04' '1997-05' '1997-06'\n '1997-07' '1997-08' '1997-09' '1997-10' '1997-11' '1997-12' '1998-01'\n '1998-02' '1998-03' '1998-04' '1998-05' '1998-06' '1998-07' '1998-08'\n '1998-09' '1998-10' '1998-11' '1998-12' '1999-01' '1999-02' '1999-03'\n '1999-04' '1999-05' '1999-06' '1999-07' '1999-08' '1999-09' '1999-10'\n '1999-11' '1999-12' '2000-01' '2000-02' '2000-03' '2000-04' '2000-05'\n '2000-06' '2000-07' '2000-08' '2000-09' '2000-10' '2000-11' '2000-12'\n '2001-01' '2001-02' '2001-03' '2001-04' '2001-05' '2001-06' '2001-07'\n '2001-08' '2001-09' '2001-10' '2001-11' '2001-12' '2002-01' '2002-02'\n '2002-03' '2002-04' '2002-05' '2002-06' '2002-07' '2002-08' '2002-09'\n '2002-10' '2002-11' '2002-12' '2003-01' '2003-02' '2003-03' '2003-04'\n '2003-05' '2003-06' '2003-07' '2003-08' '2003-09' '2003-10' '2003-11'\n '2003-12' '2004-01' '2004-02' '2004-03' '2004-04' '2004-05' '2004-06'\n '2004-07' '2004-08' '2004-09' '2004-10' '2004-11' '2004-12' '2005-01'\n '2005-02' '2005-03' '2005-04' '2005-05' '2005-06' '2005-07' '2005-08'\n '2005-09' '2005-10' '2005-11' '2005-12' '2006-01' '2006-02' '2006-03'\n '2006-04' '2006-05' '2006-06' '2006-07' '2006-08' '2006-09' '2006-10'\n '2006-11' '2006-12' '2007-01' '2007-02' '2007-03' '2007-04' '2007-05'\n '2007-06' '2007-07' '2007-08' '2007-09' '2007-10' '2007-11' '2007-12'\n '2008-01' '2008-02' '2008-03' '2008-04' '2008-05' '2008-06' '2008-07'\n '2008-08' '2008-09' '2008-10' '2008-11' '2008-12' '2009-01' '2009-02'\n '2009-03' '2009-04' '2009-05' '2009-06' '2009-07' '2009-08' '2009-09'\n '2009-10' '2009-11' '2009-12' '2010-01' '2010-02' '2010-03' '2010-04'\n '2010-05' '2010-06' '2010-07' '2010-08' '2010-09' '2010-10' '2010-11'\n '2010-12' '2011-01' '2011-02' '2011-03' '2011-04' '2011-05' '2011-06'\n '2011-07' '2011-08' '2011-09' '2011-10' '2011-11' '2011-12' '2012-01'\n '2012-02' '2012-03' '2012-04' '2012-05' '2012-06' '2012-07' '2012-08'\n '2012-09' '2012-10' '2012-11' '2012-12' '2013-01' '2013-02' '2013-03'\n '2013-04' '2013-05' '2013-06' '2013-07' '2013-08' '2013-09' '2013-10'\n '2013-11' '2013-12' '2014-01' '2014-02' '2014-03' '2014-04' '2014-05'\n '2014-06' '2014-07' '2014-08' '2014-09' '2014-10' '2014-11' '2014-12'\n '2015-01' '2015-02' '2015-03' '2015-04' '2015-05' '2015-06' '2015-07'\n '2015-08' '2015-09' '2015-10' '2015-11' '2015-12' '2016-01' '2016-02'\n '2016-03' '2016-04' '2016-05' '2016-06' '2016-07' '2016-08' '2016-09'\n '2016-10' '2016-11' '2016-12' '2017-01' '2017-02' '2017-03' '2017-04'\n '2017-05' '2017-06']\n"
     ]
    }
   ],
   "source": [
    "print('Real Estate Column Names: ', realestate_df.columns.values)"
   ]
  },
  {
   "source": [
    "## Handling Missing Data"
   ],
   "cell_type": "markdown",
   "metadata": {}
  },
  {
   "cell_type": "code",
   "execution_count": 61,
   "metadata": {},
   "outputs": [
    {
     "output_type": "stream",
     "name": "stdout",
     "text": [
      "null values: \n",
      "\n",
      "type          0\n",
      "zipcode       0\n",
      "city          0\n",
      "state         0\n",
      "metro      1865\n",
      "           ... \n",
      "2017-02       0\n",
      "2017-03       0\n",
      "2017-04       0\n",
      "2017-05       0\n",
      "2017-06       0\n",
      "Length: 262, dtype: int64 \n",
      "\n",
      "Total null values:  3144405\n"
     ]
    }
   ],
   "source": [
    "print('null values: \\n',)\n",
    "print(realestate_df.isna().sum(), '\\n')\n",
    "print('Total null values: ' ,realestate_df.isna().sum().sum())"
   ]
  },
  {
   "source": [
    "## Duplicate Data in a Data-Frame:"
   ],
   "cell_type": "markdown",
   "metadata": {}
  },
  {
   "cell_type": "code",
   "execution_count": 62,
   "metadata": {},
   "outputs": [
    {
     "output_type": "stream",
     "name": "stdout",
     "text": [
      "number of duplicate rows:  (0, 262)\n"
     ]
    }
   ],
   "source": [
    "duplicated_rows_df= realestate_df[realestate_df.duplicated()]\n",
    "print('number of duplicate rows: ', duplicated_rows_df.shape)"
   ]
  },
  {
   "source": [
    "## FIll Nan Rows with Average values"
   ],
   "cell_type": "markdown",
   "metadata": {}
  },
  {
   "cell_type": "code",
   "execution_count": 63,
   "metadata": {},
   "outputs": [
    {
     "output_type": "execute_result",
     "data": {
      "text/plain": [
       "    2007-01   2007-02   2007-03   2007-04   2007-05   2007-06   2007-07  \\\n",
       "0  774500.0  767600.0  759000.0  744200.0  729900.0  721300.0  726900.0   \n",
       "1  318000.0  318600.0  319200.0  319400.0  320700.0  321500.0  322400.0   \n",
       "2  386400.0  386300.0  387700.0  389200.0  390600.0  392300.0  395800.0   \n",
       "3  127000.0  128000.0  128300.0  128500.0  129000.0  130000.0  130800.0   \n",
       "4  237000.0  237800.0  237600.0  237400.0  237700.0  237400.0  236100.0   \n",
       "\n",
       "    2007-08   2007-09   2007-10  ...  2016-09  2016-10  2016-11    2016-12  \\\n",
       "0  743600.0  757300.0  759600.0  ...  1137500  1137700  1152700  1156000.0   \n",
       "1  324000.0  324500.0  323800.0  ...   318200   318100   318800   320200.0   \n",
       "2  397900.0  398200.0  398200.0  ...   401900   406000   414100   417800.0   \n",
       "3  131000.0  130700.0  130600.0  ...   113800   113900   114100   114500.0   \n",
       "4  235100.0  234400.0  233800.0  ...   198800   199200   200100   201500.0   \n",
       "\n",
       "   2017-01  2017-02  2017-03  2017-04  2017-05  2017-06  \n",
       "0  1140200  1130000  1131900  1149600  1198400  1247000  \n",
       "1   320800   322000   323800   326100   327800   329100  \n",
       "2   417400   418400   414100   404100   406400   415500  \n",
       "3   114900   115000   114700   114700   114800   114700  \n",
       "4   203000   205100   206700   206500   206200   206700  \n",
       "\n",
       "[5 rows x 126 columns]"
      ],
      "text/html": "<div>\n<style scoped>\n    .dataframe tbody tr th:only-of-type {\n        vertical-align: middle;\n    }\n\n    .dataframe tbody tr th {\n        vertical-align: top;\n    }\n\n    .dataframe thead th {\n        text-align: right;\n    }\n</style>\n<table border=\"1\" class=\"dataframe\">\n  <thead>\n    <tr style=\"text-align: right;\">\n      <th></th>\n      <th>2007-01</th>\n      <th>2007-02</th>\n      <th>2007-03</th>\n      <th>2007-04</th>\n      <th>2007-05</th>\n      <th>2007-06</th>\n      <th>2007-07</th>\n      <th>2007-08</th>\n      <th>2007-09</th>\n      <th>2007-10</th>\n      <th>...</th>\n      <th>2016-09</th>\n      <th>2016-10</th>\n      <th>2016-11</th>\n      <th>2016-12</th>\n      <th>2017-01</th>\n      <th>2017-02</th>\n      <th>2017-03</th>\n      <th>2017-04</th>\n      <th>2017-05</th>\n      <th>2017-06</th>\n    </tr>\n  </thead>\n  <tbody>\n    <tr>\n      <th>0</th>\n      <td>774500.0</td>\n      <td>767600.0</td>\n      <td>759000.0</td>\n      <td>744200.0</td>\n      <td>729900.0</td>\n      <td>721300.0</td>\n      <td>726900.0</td>\n      <td>743600.0</td>\n      <td>757300.0</td>\n      <td>759600.0</td>\n      <td>...</td>\n      <td>1137500</td>\n      <td>1137700</td>\n      <td>1152700</td>\n      <td>1156000.0</td>\n      <td>1140200</td>\n      <td>1130000</td>\n      <td>1131900</td>\n      <td>1149600</td>\n      <td>1198400</td>\n      <td>1247000</td>\n    </tr>\n    <tr>\n      <th>1</th>\n      <td>318000.0</td>\n      <td>318600.0</td>\n      <td>319200.0</td>\n      <td>319400.0</td>\n      <td>320700.0</td>\n      <td>321500.0</td>\n      <td>322400.0</td>\n      <td>324000.0</td>\n      <td>324500.0</td>\n      <td>323800.0</td>\n      <td>...</td>\n      <td>318200</td>\n      <td>318100</td>\n      <td>318800</td>\n      <td>320200.0</td>\n      <td>320800</td>\n      <td>322000</td>\n      <td>323800</td>\n      <td>326100</td>\n      <td>327800</td>\n      <td>329100</td>\n    </tr>\n    <tr>\n      <th>2</th>\n      <td>386400.0</td>\n      <td>386300.0</td>\n      <td>387700.0</td>\n      <td>389200.0</td>\n      <td>390600.0</td>\n      <td>392300.0</td>\n      <td>395800.0</td>\n      <td>397900.0</td>\n      <td>398200.0</td>\n      <td>398200.0</td>\n      <td>...</td>\n      <td>401900</td>\n      <td>406000</td>\n      <td>414100</td>\n      <td>417800.0</td>\n      <td>417400</td>\n      <td>418400</td>\n      <td>414100</td>\n      <td>404100</td>\n      <td>406400</td>\n      <td>415500</td>\n    </tr>\n    <tr>\n      <th>3</th>\n      <td>127000.0</td>\n      <td>128000.0</td>\n      <td>128300.0</td>\n      <td>128500.0</td>\n      <td>129000.0</td>\n      <td>130000.0</td>\n      <td>130800.0</td>\n      <td>131000.0</td>\n      <td>130700.0</td>\n      <td>130600.0</td>\n      <td>...</td>\n      <td>113800</td>\n      <td>113900</td>\n      <td>114100</td>\n      <td>114500.0</td>\n      <td>114900</td>\n      <td>115000</td>\n      <td>114700</td>\n      <td>114700</td>\n      <td>114800</td>\n      <td>114700</td>\n    </tr>\n    <tr>\n      <th>4</th>\n      <td>237000.0</td>\n      <td>237800.0</td>\n      <td>237600.0</td>\n      <td>237400.0</td>\n      <td>237700.0</td>\n      <td>237400.0</td>\n      <td>236100.0</td>\n      <td>235100.0</td>\n      <td>234400.0</td>\n      <td>233800.0</td>\n      <td>...</td>\n      <td>198800</td>\n      <td>199200</td>\n      <td>200100</td>\n      <td>201500.0</td>\n      <td>203000</td>\n      <td>205100</td>\n      <td>206700</td>\n      <td>206500</td>\n      <td>206200</td>\n      <td>206700</td>\n    </tr>\n  </tbody>\n</table>\n<p>5 rows × 126 columns</p>\n</div>"
     },
     "metadata": {},
     "execution_count": 63
    }
   ],
   "source": [
    "yeardf= realestate_df.iloc[:, 136:]\n",
    "m = yeardf.mean(axis=1)\n",
    "for i, col in enumerate(yeardf):\n",
    "    yeardf.iloc[:, i] = yeardf.iloc[:, i].fillna(m)\n",
    "yeardf.head()"
   ]
  },
  {
   "cell_type": "code",
   "execution_count": 64,
   "metadata": {},
   "outputs": [
    {
     "output_type": "execute_result",
     "data": {
      "text/plain": [
       "       type  zipcode             city state            metro        county  \\\n",
       "0      ZHVI    10025         New York    NY         New York      New York   \n",
       "1      ZHVI    60657          Chicago    IL          Chicago          Cook   \n",
       "2      ZHVI    60614          Chicago    IL          Chicago          Cook   \n",
       "3      ZHVI    79936          El Paso    TX          El Paso       El Paso   \n",
       "4      ZHVI    60640          Chicago    IL          Chicago          Cook   \n",
       "...     ...      ...              ...   ...              ...           ...   \n",
       "29106   ZRI    12720           Bethel    NY              NaN      Sullivan   \n",
       "29107   ZRI     1338  Shelburne Falls    MA  Greenfield Town      Franklin   \n",
       "29108   ZRI    21405        Annapolis    MD        Baltimore  Anne Arundel   \n",
       "29109   ZRI    85220  Apache Junction    AZ          Phoenix         Pinal   \n",
       "29110   ZRI    89595             Reno    NV             Reno        Washoe   \n",
       "\n",
       "       size_rank  \n",
       "0              1  \n",
       "1              2  \n",
       "2              3  \n",
       "3              4  \n",
       "4              5  \n",
       "...          ...  \n",
       "29106      15907  \n",
       "29107      15908  \n",
       "29108      15909  \n",
       "29109      15910  \n",
       "29110      15911  \n",
       "\n",
       "[29111 rows x 7 columns]"
      ],
      "text/html": "<div>\n<style scoped>\n    .dataframe tbody tr th:only-of-type {\n        vertical-align: middle;\n    }\n\n    .dataframe tbody tr th {\n        vertical-align: top;\n    }\n\n    .dataframe thead th {\n        text-align: right;\n    }\n</style>\n<table border=\"1\" class=\"dataframe\">\n  <thead>\n    <tr style=\"text-align: right;\">\n      <th></th>\n      <th>type</th>\n      <th>zipcode</th>\n      <th>city</th>\n      <th>state</th>\n      <th>metro</th>\n      <th>county</th>\n      <th>size_rank</th>\n    </tr>\n  </thead>\n  <tbody>\n    <tr>\n      <th>0</th>\n      <td>ZHVI</td>\n      <td>10025</td>\n      <td>New York</td>\n      <td>NY</td>\n      <td>New York</td>\n      <td>New York</td>\n      <td>1</td>\n    </tr>\n    <tr>\n      <th>1</th>\n      <td>ZHVI</td>\n      <td>60657</td>\n      <td>Chicago</td>\n      <td>IL</td>\n      <td>Chicago</td>\n      <td>Cook</td>\n      <td>2</td>\n    </tr>\n    <tr>\n      <th>2</th>\n      <td>ZHVI</td>\n      <td>60614</td>\n      <td>Chicago</td>\n      <td>IL</td>\n      <td>Chicago</td>\n      <td>Cook</td>\n      <td>3</td>\n    </tr>\n    <tr>\n      <th>3</th>\n      <td>ZHVI</td>\n      <td>79936</td>\n      <td>El Paso</td>\n      <td>TX</td>\n      <td>El Paso</td>\n      <td>El Paso</td>\n      <td>4</td>\n    </tr>\n    <tr>\n      <th>4</th>\n      <td>ZHVI</td>\n      <td>60640</td>\n      <td>Chicago</td>\n      <td>IL</td>\n      <td>Chicago</td>\n      <td>Cook</td>\n      <td>5</td>\n    </tr>\n    <tr>\n      <th>...</th>\n      <td>...</td>\n      <td>...</td>\n      <td>...</td>\n      <td>...</td>\n      <td>...</td>\n      <td>...</td>\n      <td>...</td>\n    </tr>\n    <tr>\n      <th>29106</th>\n      <td>ZRI</td>\n      <td>12720</td>\n      <td>Bethel</td>\n      <td>NY</td>\n      <td>NaN</td>\n      <td>Sullivan</td>\n      <td>15907</td>\n    </tr>\n    <tr>\n      <th>29107</th>\n      <td>ZRI</td>\n      <td>1338</td>\n      <td>Shelburne Falls</td>\n      <td>MA</td>\n      <td>Greenfield Town</td>\n      <td>Franklin</td>\n      <td>15908</td>\n    </tr>\n    <tr>\n      <th>29108</th>\n      <td>ZRI</td>\n      <td>21405</td>\n      <td>Annapolis</td>\n      <td>MD</td>\n      <td>Baltimore</td>\n      <td>Anne Arundel</td>\n      <td>15909</td>\n    </tr>\n    <tr>\n      <th>29109</th>\n      <td>ZRI</td>\n      <td>85220</td>\n      <td>Apache Junction</td>\n      <td>AZ</td>\n      <td>Phoenix</td>\n      <td>Pinal</td>\n      <td>15910</td>\n    </tr>\n    <tr>\n      <th>29110</th>\n      <td>ZRI</td>\n      <td>89595</td>\n      <td>Reno</td>\n      <td>NV</td>\n      <td>Reno</td>\n      <td>Washoe</td>\n      <td>15911</td>\n    </tr>\n  </tbody>\n</table>\n<p>29111 rows × 7 columns</p>\n</div>"
     },
     "metadata": {},
     "execution_count": 64
    }
   ],
   "source": [
    "realecateg=realestate_df.iloc[:, :7]\n",
    "realecateg"
   ]
  },
  {
   "cell_type": "code",
   "execution_count": 65,
   "metadata": {},
   "outputs": [
    {
     "output_type": "execute_result",
     "data": {
      "text/plain": [
       "       type  zipcode             city state            metro        county  \\\n",
       "0      ZHVI    10025         New York    NY         New York      New York   \n",
       "1      ZHVI    60657          Chicago    IL          Chicago          Cook   \n",
       "2      ZHVI    60614          Chicago    IL          Chicago          Cook   \n",
       "3      ZHVI    79936          El Paso    TX          El Paso       El Paso   \n",
       "4      ZHVI    60640          Chicago    IL          Chicago          Cook   \n",
       "...     ...      ...              ...   ...              ...           ...   \n",
       "29106   ZRI    12720           Bethel    NY              NaN      Sullivan   \n",
       "29107   ZRI     1338  Shelburne Falls    MA  Greenfield Town      Franklin   \n",
       "29108   ZRI    21405        Annapolis    MD        Baltimore  Anne Arundel   \n",
       "29109   ZRI    85220  Apache Junction    AZ          Phoenix         Pinal   \n",
       "29110   ZRI    89595             Reno    NV             Reno        Washoe   \n",
       "\n",
       "       size_rank      2007-01      2007-02      2007-03  ...  2016-09  \\\n",
       "0              1  774500.0000  767600.0000  759000.0000  ...  1137500   \n",
       "1              2  318000.0000  318600.0000  319200.0000  ...   318200   \n",
       "2              3  386400.0000  386300.0000  387700.0000  ...   401900   \n",
       "3              4  127000.0000  128000.0000  128300.0000  ...   113800   \n",
       "4              5  237000.0000  237800.0000  237600.0000  ...   198800   \n",
       "...          ...          ...          ...          ...  ...      ...   \n",
       "29106      15907    1165.7250    1165.7250    1165.7250  ...     1185   \n",
       "29107      15908    1613.8375    1613.8375    1613.8375  ...     1769   \n",
       "29108      15909    3551.8625    3551.8625    3551.8625  ...     4048   \n",
       "29109      15910     917.5625     917.5625     917.5625  ...     1007   \n",
       "29110      15911     800.3750     800.3750     800.3750  ...      872   \n",
       "\n",
       "       2016-10  2016-11    2016-12  2017-01  2017-02  2017-03  2017-04  \\\n",
       "0      1137700  1152700  1156000.0  1140200  1130000  1131900  1149600   \n",
       "1       318100   318800   320200.0   320800   322000   323800   326100   \n",
       "2       406000   414100   417800.0   417400   418400   414100   404100   \n",
       "3       113900   114100   114500.0   114900   115000   114700   114700   \n",
       "4       199200   200100   201500.0   203000   205100   206700   206500   \n",
       "...        ...      ...        ...      ...      ...      ...      ...   \n",
       "29106     1181     1174     1167.0     1156     1162     1175     1194   \n",
       "29107     1772     1775     1780.0     1786     1790     1797     1798   \n",
       "29108     4005     3888     3729.0     3563     3493     3474     3496   \n",
       "29109     1018     1035     1052.0     1061     1060     1058     1065   \n",
       "29110      877      871      863.0      843      826      816      820   \n",
       "\n",
       "       2017-05  2017-06  \n",
       "0      1198400  1247000  \n",
       "1       327800   329100  \n",
       "2       406400   415500  \n",
       "3       114800   114700  \n",
       "4       206200   206700  \n",
       "...        ...      ...  \n",
       "29106     1202     1206  \n",
       "29107     1796     1795  \n",
       "29108     3488     3471  \n",
       "29109     1074     1080  \n",
       "29110      838      848  \n",
       "\n",
       "[29111 rows x 133 columns]"
      ],
      "text/html": "<div>\n<style scoped>\n    .dataframe tbody tr th:only-of-type {\n        vertical-align: middle;\n    }\n\n    .dataframe tbody tr th {\n        vertical-align: top;\n    }\n\n    .dataframe thead th {\n        text-align: right;\n    }\n</style>\n<table border=\"1\" class=\"dataframe\">\n  <thead>\n    <tr style=\"text-align: right;\">\n      <th></th>\n      <th>type</th>\n      <th>zipcode</th>\n      <th>city</th>\n      <th>state</th>\n      <th>metro</th>\n      <th>county</th>\n      <th>size_rank</th>\n      <th>2007-01</th>\n      <th>2007-02</th>\n      <th>2007-03</th>\n      <th>...</th>\n      <th>2016-09</th>\n      <th>2016-10</th>\n      <th>2016-11</th>\n      <th>2016-12</th>\n      <th>2017-01</th>\n      <th>2017-02</th>\n      <th>2017-03</th>\n      <th>2017-04</th>\n      <th>2017-05</th>\n      <th>2017-06</th>\n    </tr>\n  </thead>\n  <tbody>\n    <tr>\n      <th>0</th>\n      <td>ZHVI</td>\n      <td>10025</td>\n      <td>New York</td>\n      <td>NY</td>\n      <td>New York</td>\n      <td>New York</td>\n      <td>1</td>\n      <td>774500.0000</td>\n      <td>767600.0000</td>\n      <td>759000.0000</td>\n      <td>...</td>\n      <td>1137500</td>\n      <td>1137700</td>\n      <td>1152700</td>\n      <td>1156000.0</td>\n      <td>1140200</td>\n      <td>1130000</td>\n      <td>1131900</td>\n      <td>1149600</td>\n      <td>1198400</td>\n      <td>1247000</td>\n    </tr>\n    <tr>\n      <th>1</th>\n      <td>ZHVI</td>\n      <td>60657</td>\n      <td>Chicago</td>\n      <td>IL</td>\n      <td>Chicago</td>\n      <td>Cook</td>\n      <td>2</td>\n      <td>318000.0000</td>\n      <td>318600.0000</td>\n      <td>319200.0000</td>\n      <td>...</td>\n      <td>318200</td>\n      <td>318100</td>\n      <td>318800</td>\n      <td>320200.0</td>\n      <td>320800</td>\n      <td>322000</td>\n      <td>323800</td>\n      <td>326100</td>\n      <td>327800</td>\n      <td>329100</td>\n    </tr>\n    <tr>\n      <th>2</th>\n      <td>ZHVI</td>\n      <td>60614</td>\n      <td>Chicago</td>\n      <td>IL</td>\n      <td>Chicago</td>\n      <td>Cook</td>\n      <td>3</td>\n      <td>386400.0000</td>\n      <td>386300.0000</td>\n      <td>387700.0000</td>\n      <td>...</td>\n      <td>401900</td>\n      <td>406000</td>\n      <td>414100</td>\n      <td>417800.0</td>\n      <td>417400</td>\n      <td>418400</td>\n      <td>414100</td>\n      <td>404100</td>\n      <td>406400</td>\n      <td>415500</td>\n    </tr>\n    <tr>\n      <th>3</th>\n      <td>ZHVI</td>\n      <td>79936</td>\n      <td>El Paso</td>\n      <td>TX</td>\n      <td>El Paso</td>\n      <td>El Paso</td>\n      <td>4</td>\n      <td>127000.0000</td>\n      <td>128000.0000</td>\n      <td>128300.0000</td>\n      <td>...</td>\n      <td>113800</td>\n      <td>113900</td>\n      <td>114100</td>\n      <td>114500.0</td>\n      <td>114900</td>\n      <td>115000</td>\n      <td>114700</td>\n      <td>114700</td>\n      <td>114800</td>\n      <td>114700</td>\n    </tr>\n    <tr>\n      <th>4</th>\n      <td>ZHVI</td>\n      <td>60640</td>\n      <td>Chicago</td>\n      <td>IL</td>\n      <td>Chicago</td>\n      <td>Cook</td>\n      <td>5</td>\n      <td>237000.0000</td>\n      <td>237800.0000</td>\n      <td>237600.0000</td>\n      <td>...</td>\n      <td>198800</td>\n      <td>199200</td>\n      <td>200100</td>\n      <td>201500.0</td>\n      <td>203000</td>\n      <td>205100</td>\n      <td>206700</td>\n      <td>206500</td>\n      <td>206200</td>\n      <td>206700</td>\n    </tr>\n    <tr>\n      <th>...</th>\n      <td>...</td>\n      <td>...</td>\n      <td>...</td>\n      <td>...</td>\n      <td>...</td>\n      <td>...</td>\n      <td>...</td>\n      <td>...</td>\n      <td>...</td>\n      <td>...</td>\n      <td>...</td>\n      <td>...</td>\n      <td>...</td>\n      <td>...</td>\n      <td>...</td>\n      <td>...</td>\n      <td>...</td>\n      <td>...</td>\n      <td>...</td>\n      <td>...</td>\n      <td>...</td>\n    </tr>\n    <tr>\n      <th>29106</th>\n      <td>ZRI</td>\n      <td>12720</td>\n      <td>Bethel</td>\n      <td>NY</td>\n      <td>NaN</td>\n      <td>Sullivan</td>\n      <td>15907</td>\n      <td>1165.7250</td>\n      <td>1165.7250</td>\n      <td>1165.7250</td>\n      <td>...</td>\n      <td>1185</td>\n      <td>1181</td>\n      <td>1174</td>\n      <td>1167.0</td>\n      <td>1156</td>\n      <td>1162</td>\n      <td>1175</td>\n      <td>1194</td>\n      <td>1202</td>\n      <td>1206</td>\n    </tr>\n    <tr>\n      <th>29107</th>\n      <td>ZRI</td>\n      <td>1338</td>\n      <td>Shelburne Falls</td>\n      <td>MA</td>\n      <td>Greenfield Town</td>\n      <td>Franklin</td>\n      <td>15908</td>\n      <td>1613.8375</td>\n      <td>1613.8375</td>\n      <td>1613.8375</td>\n      <td>...</td>\n      <td>1769</td>\n      <td>1772</td>\n      <td>1775</td>\n      <td>1780.0</td>\n      <td>1786</td>\n      <td>1790</td>\n      <td>1797</td>\n      <td>1798</td>\n      <td>1796</td>\n      <td>1795</td>\n    </tr>\n    <tr>\n      <th>29108</th>\n      <td>ZRI</td>\n      <td>21405</td>\n      <td>Annapolis</td>\n      <td>MD</td>\n      <td>Baltimore</td>\n      <td>Anne Arundel</td>\n      <td>15909</td>\n      <td>3551.8625</td>\n      <td>3551.8625</td>\n      <td>3551.8625</td>\n      <td>...</td>\n      <td>4048</td>\n      <td>4005</td>\n      <td>3888</td>\n      <td>3729.0</td>\n      <td>3563</td>\n      <td>3493</td>\n      <td>3474</td>\n      <td>3496</td>\n      <td>3488</td>\n      <td>3471</td>\n    </tr>\n    <tr>\n      <th>29109</th>\n      <td>ZRI</td>\n      <td>85220</td>\n      <td>Apache Junction</td>\n      <td>AZ</td>\n      <td>Phoenix</td>\n      <td>Pinal</td>\n      <td>15910</td>\n      <td>917.5625</td>\n      <td>917.5625</td>\n      <td>917.5625</td>\n      <td>...</td>\n      <td>1007</td>\n      <td>1018</td>\n      <td>1035</td>\n      <td>1052.0</td>\n      <td>1061</td>\n      <td>1060</td>\n      <td>1058</td>\n      <td>1065</td>\n      <td>1074</td>\n      <td>1080</td>\n    </tr>\n    <tr>\n      <th>29110</th>\n      <td>ZRI</td>\n      <td>89595</td>\n      <td>Reno</td>\n      <td>NV</td>\n      <td>Reno</td>\n      <td>Washoe</td>\n      <td>15911</td>\n      <td>800.3750</td>\n      <td>800.3750</td>\n      <td>800.3750</td>\n      <td>...</td>\n      <td>872</td>\n      <td>877</td>\n      <td>871</td>\n      <td>863.0</td>\n      <td>843</td>\n      <td>826</td>\n      <td>816</td>\n      <td>820</td>\n      <td>838</td>\n      <td>848</td>\n    </tr>\n  </tbody>\n</table>\n<p>29111 rows × 133 columns</p>\n</div>"
     },
     "metadata": {},
     "execution_count": 65
    }
   ],
   "source": [
    "realestate_df= pd.concat([realecateg, yeardf], axis=1)\n",
    "realestate_df"
   ]
  },
  {
   "source": [
    "## Fill NA Metro"
   ],
   "cell_type": "markdown",
   "metadata": {}
  },
  {
   "cell_type": "code",
   "execution_count": 66,
   "metadata": {},
   "outputs": [
    {
     "output_type": "execute_result",
     "data": {
      "text/plain": [
       "       type  zipcode             city state            metro        county  \\\n",
       "0      ZHVI    10025         New York    NY         New York      New York   \n",
       "1      ZHVI    60657          Chicago    IL          Chicago          Cook   \n",
       "2      ZHVI    60614          Chicago    IL          Chicago          Cook   \n",
       "3      ZHVI    79936          El Paso    TX          El Paso       El Paso   \n",
       "4      ZHVI    60640          Chicago    IL          Chicago          Cook   \n",
       "...     ...      ...              ...   ...              ...           ...   \n",
       "29106   ZRI    12720           Bethel    NY            Empty      Sullivan   \n",
       "29107   ZRI     1338  Shelburne Falls    MA  Greenfield Town      Franklin   \n",
       "29108   ZRI    21405        Annapolis    MD        Baltimore  Anne Arundel   \n",
       "29109   ZRI    85220  Apache Junction    AZ          Phoenix         Pinal   \n",
       "29110   ZRI    89595             Reno    NV             Reno        Washoe   \n",
       "\n",
       "       size_rank      2007-01      2007-02      2007-03  ...  2016-09  \\\n",
       "0              1  774500.0000  767600.0000  759000.0000  ...  1137500   \n",
       "1              2  318000.0000  318600.0000  319200.0000  ...   318200   \n",
       "2              3  386400.0000  386300.0000  387700.0000  ...   401900   \n",
       "3              4  127000.0000  128000.0000  128300.0000  ...   113800   \n",
       "4              5  237000.0000  237800.0000  237600.0000  ...   198800   \n",
       "...          ...          ...          ...          ...  ...      ...   \n",
       "29106      15907    1165.7250    1165.7250    1165.7250  ...     1185   \n",
       "29107      15908    1613.8375    1613.8375    1613.8375  ...     1769   \n",
       "29108      15909    3551.8625    3551.8625    3551.8625  ...     4048   \n",
       "29109      15910     917.5625     917.5625     917.5625  ...     1007   \n",
       "29110      15911     800.3750     800.3750     800.3750  ...      872   \n",
       "\n",
       "       2016-10  2016-11    2016-12  2017-01  2017-02  2017-03  2017-04  \\\n",
       "0      1137700  1152700  1156000.0  1140200  1130000  1131900  1149600   \n",
       "1       318100   318800   320200.0   320800   322000   323800   326100   \n",
       "2       406000   414100   417800.0   417400   418400   414100   404100   \n",
       "3       113900   114100   114500.0   114900   115000   114700   114700   \n",
       "4       199200   200100   201500.0   203000   205100   206700   206500   \n",
       "...        ...      ...        ...      ...      ...      ...      ...   \n",
       "29106     1181     1174     1167.0     1156     1162     1175     1194   \n",
       "29107     1772     1775     1780.0     1786     1790     1797     1798   \n",
       "29108     4005     3888     3729.0     3563     3493     3474     3496   \n",
       "29109     1018     1035     1052.0     1061     1060     1058     1065   \n",
       "29110      877      871      863.0      843      826      816      820   \n",
       "\n",
       "       2017-05  2017-06  \n",
       "0      1198400  1247000  \n",
       "1       327800   329100  \n",
       "2       406400   415500  \n",
       "3       114800   114700  \n",
       "4       206200   206700  \n",
       "...        ...      ...  \n",
       "29106     1202     1206  \n",
       "29107     1796     1795  \n",
       "29108     3488     3471  \n",
       "29109     1074     1080  \n",
       "29110      838      848  \n",
       "\n",
       "[29111 rows x 133 columns]"
      ],
      "text/html": "<div>\n<style scoped>\n    .dataframe tbody tr th:only-of-type {\n        vertical-align: middle;\n    }\n\n    .dataframe tbody tr th {\n        vertical-align: top;\n    }\n\n    .dataframe thead th {\n        text-align: right;\n    }\n</style>\n<table border=\"1\" class=\"dataframe\">\n  <thead>\n    <tr style=\"text-align: right;\">\n      <th></th>\n      <th>type</th>\n      <th>zipcode</th>\n      <th>city</th>\n      <th>state</th>\n      <th>metro</th>\n      <th>county</th>\n      <th>size_rank</th>\n      <th>2007-01</th>\n      <th>2007-02</th>\n      <th>2007-03</th>\n      <th>...</th>\n      <th>2016-09</th>\n      <th>2016-10</th>\n      <th>2016-11</th>\n      <th>2016-12</th>\n      <th>2017-01</th>\n      <th>2017-02</th>\n      <th>2017-03</th>\n      <th>2017-04</th>\n      <th>2017-05</th>\n      <th>2017-06</th>\n    </tr>\n  </thead>\n  <tbody>\n    <tr>\n      <th>0</th>\n      <td>ZHVI</td>\n      <td>10025</td>\n      <td>New York</td>\n      <td>NY</td>\n      <td>New York</td>\n      <td>New York</td>\n      <td>1</td>\n      <td>774500.0000</td>\n      <td>767600.0000</td>\n      <td>759000.0000</td>\n      <td>...</td>\n      <td>1137500</td>\n      <td>1137700</td>\n      <td>1152700</td>\n      <td>1156000.0</td>\n      <td>1140200</td>\n      <td>1130000</td>\n      <td>1131900</td>\n      <td>1149600</td>\n      <td>1198400</td>\n      <td>1247000</td>\n    </tr>\n    <tr>\n      <th>1</th>\n      <td>ZHVI</td>\n      <td>60657</td>\n      <td>Chicago</td>\n      <td>IL</td>\n      <td>Chicago</td>\n      <td>Cook</td>\n      <td>2</td>\n      <td>318000.0000</td>\n      <td>318600.0000</td>\n      <td>319200.0000</td>\n      <td>...</td>\n      <td>318200</td>\n      <td>318100</td>\n      <td>318800</td>\n      <td>320200.0</td>\n      <td>320800</td>\n      <td>322000</td>\n      <td>323800</td>\n      <td>326100</td>\n      <td>327800</td>\n      <td>329100</td>\n    </tr>\n    <tr>\n      <th>2</th>\n      <td>ZHVI</td>\n      <td>60614</td>\n      <td>Chicago</td>\n      <td>IL</td>\n      <td>Chicago</td>\n      <td>Cook</td>\n      <td>3</td>\n      <td>386400.0000</td>\n      <td>386300.0000</td>\n      <td>387700.0000</td>\n      <td>...</td>\n      <td>401900</td>\n      <td>406000</td>\n      <td>414100</td>\n      <td>417800.0</td>\n      <td>417400</td>\n      <td>418400</td>\n      <td>414100</td>\n      <td>404100</td>\n      <td>406400</td>\n      <td>415500</td>\n    </tr>\n    <tr>\n      <th>3</th>\n      <td>ZHVI</td>\n      <td>79936</td>\n      <td>El Paso</td>\n      <td>TX</td>\n      <td>El Paso</td>\n      <td>El Paso</td>\n      <td>4</td>\n      <td>127000.0000</td>\n      <td>128000.0000</td>\n      <td>128300.0000</td>\n      <td>...</td>\n      <td>113800</td>\n      <td>113900</td>\n      <td>114100</td>\n      <td>114500.0</td>\n      <td>114900</td>\n      <td>115000</td>\n      <td>114700</td>\n      <td>114700</td>\n      <td>114800</td>\n      <td>114700</td>\n    </tr>\n    <tr>\n      <th>4</th>\n      <td>ZHVI</td>\n      <td>60640</td>\n      <td>Chicago</td>\n      <td>IL</td>\n      <td>Chicago</td>\n      <td>Cook</td>\n      <td>5</td>\n      <td>237000.0000</td>\n      <td>237800.0000</td>\n      <td>237600.0000</td>\n      <td>...</td>\n      <td>198800</td>\n      <td>199200</td>\n      <td>200100</td>\n      <td>201500.0</td>\n      <td>203000</td>\n      <td>205100</td>\n      <td>206700</td>\n      <td>206500</td>\n      <td>206200</td>\n      <td>206700</td>\n    </tr>\n    <tr>\n      <th>...</th>\n      <td>...</td>\n      <td>...</td>\n      <td>...</td>\n      <td>...</td>\n      <td>...</td>\n      <td>...</td>\n      <td>...</td>\n      <td>...</td>\n      <td>...</td>\n      <td>...</td>\n      <td>...</td>\n      <td>...</td>\n      <td>...</td>\n      <td>...</td>\n      <td>...</td>\n      <td>...</td>\n      <td>...</td>\n      <td>...</td>\n      <td>...</td>\n      <td>...</td>\n      <td>...</td>\n    </tr>\n    <tr>\n      <th>29106</th>\n      <td>ZRI</td>\n      <td>12720</td>\n      <td>Bethel</td>\n      <td>NY</td>\n      <td>Empty</td>\n      <td>Sullivan</td>\n      <td>15907</td>\n      <td>1165.7250</td>\n      <td>1165.7250</td>\n      <td>1165.7250</td>\n      <td>...</td>\n      <td>1185</td>\n      <td>1181</td>\n      <td>1174</td>\n      <td>1167.0</td>\n      <td>1156</td>\n      <td>1162</td>\n      <td>1175</td>\n      <td>1194</td>\n      <td>1202</td>\n      <td>1206</td>\n    </tr>\n    <tr>\n      <th>29107</th>\n      <td>ZRI</td>\n      <td>1338</td>\n      <td>Shelburne Falls</td>\n      <td>MA</td>\n      <td>Greenfield Town</td>\n      <td>Franklin</td>\n      <td>15908</td>\n      <td>1613.8375</td>\n      <td>1613.8375</td>\n      <td>1613.8375</td>\n      <td>...</td>\n      <td>1769</td>\n      <td>1772</td>\n      <td>1775</td>\n      <td>1780.0</td>\n      <td>1786</td>\n      <td>1790</td>\n      <td>1797</td>\n      <td>1798</td>\n      <td>1796</td>\n      <td>1795</td>\n    </tr>\n    <tr>\n      <th>29108</th>\n      <td>ZRI</td>\n      <td>21405</td>\n      <td>Annapolis</td>\n      <td>MD</td>\n      <td>Baltimore</td>\n      <td>Anne Arundel</td>\n      <td>15909</td>\n      <td>3551.8625</td>\n      <td>3551.8625</td>\n      <td>3551.8625</td>\n      <td>...</td>\n      <td>4048</td>\n      <td>4005</td>\n      <td>3888</td>\n      <td>3729.0</td>\n      <td>3563</td>\n      <td>3493</td>\n      <td>3474</td>\n      <td>3496</td>\n      <td>3488</td>\n      <td>3471</td>\n    </tr>\n    <tr>\n      <th>29109</th>\n      <td>ZRI</td>\n      <td>85220</td>\n      <td>Apache Junction</td>\n      <td>AZ</td>\n      <td>Phoenix</td>\n      <td>Pinal</td>\n      <td>15910</td>\n      <td>917.5625</td>\n      <td>917.5625</td>\n      <td>917.5625</td>\n      <td>...</td>\n      <td>1007</td>\n      <td>1018</td>\n      <td>1035</td>\n      <td>1052.0</td>\n      <td>1061</td>\n      <td>1060</td>\n      <td>1058</td>\n      <td>1065</td>\n      <td>1074</td>\n      <td>1080</td>\n    </tr>\n    <tr>\n      <th>29110</th>\n      <td>ZRI</td>\n      <td>89595</td>\n      <td>Reno</td>\n      <td>NV</td>\n      <td>Reno</td>\n      <td>Washoe</td>\n      <td>15911</td>\n      <td>800.3750</td>\n      <td>800.3750</td>\n      <td>800.3750</td>\n      <td>...</td>\n      <td>872</td>\n      <td>877</td>\n      <td>871</td>\n      <td>863.0</td>\n      <td>843</td>\n      <td>826</td>\n      <td>816</td>\n      <td>820</td>\n      <td>838</td>\n      <td>848</td>\n    </tr>\n  </tbody>\n</table>\n<p>29111 rows × 133 columns</p>\n</div>"
     },
     "metadata": {},
     "execution_count": 66
    }
   ],
   "source": [
    "realestate_df.metro.fillna(\"Empty\", inplace=True)\n",
    "realestate_df"
   ]
  },
  {
   "cell_type": "code",
   "execution_count": 67,
   "metadata": {},
   "outputs": [
    {
     "output_type": "execute_result",
     "data": {
      "text/plain": [
       "0"
      ]
     },
     "metadata": {},
     "execution_count": 67
    }
   ],
   "source": [
    "realestate_df.isna().sum().sum()"
   ]
  },
  {
   "source": [
    "##  Melting date 2007 -2017 columns on a single column in Data-Set:"
   ],
   "cell_type": "markdown",
   "metadata": {}
  },
  {
   "cell_type": "code",
   "execution_count": 68,
   "metadata": {},
   "outputs": [
    {
     "output_type": "execute_result",
     "data": {
      "text/plain": [
       "         type  zipcode             city state            metro        county  \\\n",
       "0        ZHVI    10025         New York    NY         New York      New York   \n",
       "1        ZHVI    60657          Chicago    IL          Chicago          Cook   \n",
       "2        ZHVI    60614          Chicago    IL          Chicago          Cook   \n",
       "3        ZHVI    79936          El Paso    TX          El Paso       El Paso   \n",
       "4        ZHVI    60640          Chicago    IL          Chicago          Cook   \n",
       "...       ...      ...              ...   ...              ...           ...   \n",
       "3667981   ZRI    12720           Bethel    NY            Empty      Sullivan   \n",
       "3667982   ZRI     1338  Shelburne Falls    MA  Greenfield Town      Franklin   \n",
       "3667983   ZRI    21405        Annapolis    MD        Baltimore  Anne Arundel   \n",
       "3667984   ZRI    85220  Apache Junction    AZ          Phoenix         Pinal   \n",
       "3667985   ZRI    89595             Reno    NV             Reno        Washoe   \n",
       "\n",
       "         size_rank     date     Value  \n",
       "0                1  2007-01  774500.0  \n",
       "1                2  2007-01  318000.0  \n",
       "2                3  2007-01  386400.0  \n",
       "3                4  2007-01  127000.0  \n",
       "4                5  2007-01  237000.0  \n",
       "...            ...      ...       ...  \n",
       "3667981      15907  2017-06    1206.0  \n",
       "3667982      15908  2017-06    1795.0  \n",
       "3667983      15909  2017-06    3471.0  \n",
       "3667984      15910  2017-06    1080.0  \n",
       "3667985      15911  2017-06     848.0  \n",
       "\n",
       "[3667986 rows x 9 columns]"
      ],
      "text/html": "<div>\n<style scoped>\n    .dataframe tbody tr th:only-of-type {\n        vertical-align: middle;\n    }\n\n    .dataframe tbody tr th {\n        vertical-align: top;\n    }\n\n    .dataframe thead th {\n        text-align: right;\n    }\n</style>\n<table border=\"1\" class=\"dataframe\">\n  <thead>\n    <tr style=\"text-align: right;\">\n      <th></th>\n      <th>type</th>\n      <th>zipcode</th>\n      <th>city</th>\n      <th>state</th>\n      <th>metro</th>\n      <th>county</th>\n      <th>size_rank</th>\n      <th>date</th>\n      <th>Value</th>\n    </tr>\n  </thead>\n  <tbody>\n    <tr>\n      <th>0</th>\n      <td>ZHVI</td>\n      <td>10025</td>\n      <td>New York</td>\n      <td>NY</td>\n      <td>New York</td>\n      <td>New York</td>\n      <td>1</td>\n      <td>2007-01</td>\n      <td>774500.0</td>\n    </tr>\n    <tr>\n      <th>1</th>\n      <td>ZHVI</td>\n      <td>60657</td>\n      <td>Chicago</td>\n      <td>IL</td>\n      <td>Chicago</td>\n      <td>Cook</td>\n      <td>2</td>\n      <td>2007-01</td>\n      <td>318000.0</td>\n    </tr>\n    <tr>\n      <th>2</th>\n      <td>ZHVI</td>\n      <td>60614</td>\n      <td>Chicago</td>\n      <td>IL</td>\n      <td>Chicago</td>\n      <td>Cook</td>\n      <td>3</td>\n      <td>2007-01</td>\n      <td>386400.0</td>\n    </tr>\n    <tr>\n      <th>3</th>\n      <td>ZHVI</td>\n      <td>79936</td>\n      <td>El Paso</td>\n      <td>TX</td>\n      <td>El Paso</td>\n      <td>El Paso</td>\n      <td>4</td>\n      <td>2007-01</td>\n      <td>127000.0</td>\n    </tr>\n    <tr>\n      <th>4</th>\n      <td>ZHVI</td>\n      <td>60640</td>\n      <td>Chicago</td>\n      <td>IL</td>\n      <td>Chicago</td>\n      <td>Cook</td>\n      <td>5</td>\n      <td>2007-01</td>\n      <td>237000.0</td>\n    </tr>\n    <tr>\n      <th>...</th>\n      <td>...</td>\n      <td>...</td>\n      <td>...</td>\n      <td>...</td>\n      <td>...</td>\n      <td>...</td>\n      <td>...</td>\n      <td>...</td>\n      <td>...</td>\n    </tr>\n    <tr>\n      <th>3667981</th>\n      <td>ZRI</td>\n      <td>12720</td>\n      <td>Bethel</td>\n      <td>NY</td>\n      <td>Empty</td>\n      <td>Sullivan</td>\n      <td>15907</td>\n      <td>2017-06</td>\n      <td>1206.0</td>\n    </tr>\n    <tr>\n      <th>3667982</th>\n      <td>ZRI</td>\n      <td>1338</td>\n      <td>Shelburne Falls</td>\n      <td>MA</td>\n      <td>Greenfield Town</td>\n      <td>Franklin</td>\n      <td>15908</td>\n      <td>2017-06</td>\n      <td>1795.0</td>\n    </tr>\n    <tr>\n      <th>3667983</th>\n      <td>ZRI</td>\n      <td>21405</td>\n      <td>Annapolis</td>\n      <td>MD</td>\n      <td>Baltimore</td>\n      <td>Anne Arundel</td>\n      <td>15909</td>\n      <td>2017-06</td>\n      <td>3471.0</td>\n    </tr>\n    <tr>\n      <th>3667984</th>\n      <td>ZRI</td>\n      <td>85220</td>\n      <td>Apache Junction</td>\n      <td>AZ</td>\n      <td>Phoenix</td>\n      <td>Pinal</td>\n      <td>15910</td>\n      <td>2017-06</td>\n      <td>1080.0</td>\n    </tr>\n    <tr>\n      <th>3667985</th>\n      <td>ZRI</td>\n      <td>89595</td>\n      <td>Reno</td>\n      <td>NV</td>\n      <td>Reno</td>\n      <td>Washoe</td>\n      <td>15911</td>\n      <td>2017-06</td>\n      <td>848.0</td>\n    </tr>\n  </tbody>\n</table>\n<p>3667986 rows × 9 columns</p>\n</div>"
     },
     "metadata": {},
     "execution_count": 68
    }
   ],
   "source": [
    "yeardf= yeardf.columns.tolist() # Listado de años y meses de la df realstate\n",
    "#yearlist\n",
    "realestate_df = pd.melt(realestate_df, id_vars=['type','zipcode','city','state','metro','county','size_rank'], value_vars= yeardf , var_name='date', value_name= 'Value')\n",
    "realestate_df"
   ]
  },
  {
   "source": [
    "## Drop NA values"
   ],
   "cell_type": "markdown",
   "metadata": {}
  },
  {
   "cell_type": "code",
   "execution_count": 69,
   "metadata": {},
   "outputs": [
    {
     "output_type": "stream",
     "name": "stdout",
     "text": [
      "new dataframe shape:  (3667986, 9)\n"
     ]
    },
    {
     "output_type": "execute_result",
     "data": {
      "text/plain": [
       "         type  zipcode             city state            metro        county  \\\n",
       "0        ZHVI    10025         New York    NY         New York      New York   \n",
       "1        ZHVI    60657          Chicago    IL          Chicago          Cook   \n",
       "2        ZHVI    60614          Chicago    IL          Chicago          Cook   \n",
       "3        ZHVI    79936          El Paso    TX          El Paso       El Paso   \n",
       "4        ZHVI    60640          Chicago    IL          Chicago          Cook   \n",
       "...       ...      ...              ...   ...              ...           ...   \n",
       "3667981   ZRI    12720           Bethel    NY            Empty      Sullivan   \n",
       "3667982   ZRI     1338  Shelburne Falls    MA  Greenfield Town      Franklin   \n",
       "3667983   ZRI    21405        Annapolis    MD        Baltimore  Anne Arundel   \n",
       "3667984   ZRI    85220  Apache Junction    AZ          Phoenix         Pinal   \n",
       "3667985   ZRI    89595             Reno    NV             Reno        Washoe   \n",
       "\n",
       "         size_rank     date     Value  \n",
       "0                1  2007-01  774500.0  \n",
       "1                2  2007-01  318000.0  \n",
       "2                3  2007-01  386400.0  \n",
       "3                4  2007-01  127000.0  \n",
       "4                5  2007-01  237000.0  \n",
       "...            ...      ...       ...  \n",
       "3667981      15907  2017-06    1206.0  \n",
       "3667982      15908  2017-06    1795.0  \n",
       "3667983      15909  2017-06    3471.0  \n",
       "3667984      15910  2017-06    1080.0  \n",
       "3667985      15911  2017-06     848.0  \n",
       "\n",
       "[3667986 rows x 9 columns]"
      ],
      "text/html": "<div>\n<style scoped>\n    .dataframe tbody tr th:only-of-type {\n        vertical-align: middle;\n    }\n\n    .dataframe tbody tr th {\n        vertical-align: top;\n    }\n\n    .dataframe thead th {\n        text-align: right;\n    }\n</style>\n<table border=\"1\" class=\"dataframe\">\n  <thead>\n    <tr style=\"text-align: right;\">\n      <th></th>\n      <th>type</th>\n      <th>zipcode</th>\n      <th>city</th>\n      <th>state</th>\n      <th>metro</th>\n      <th>county</th>\n      <th>size_rank</th>\n      <th>date</th>\n      <th>Value</th>\n    </tr>\n  </thead>\n  <tbody>\n    <tr>\n      <th>0</th>\n      <td>ZHVI</td>\n      <td>10025</td>\n      <td>New York</td>\n      <td>NY</td>\n      <td>New York</td>\n      <td>New York</td>\n      <td>1</td>\n      <td>2007-01</td>\n      <td>774500.0</td>\n    </tr>\n    <tr>\n      <th>1</th>\n      <td>ZHVI</td>\n      <td>60657</td>\n      <td>Chicago</td>\n      <td>IL</td>\n      <td>Chicago</td>\n      <td>Cook</td>\n      <td>2</td>\n      <td>2007-01</td>\n      <td>318000.0</td>\n    </tr>\n    <tr>\n      <th>2</th>\n      <td>ZHVI</td>\n      <td>60614</td>\n      <td>Chicago</td>\n      <td>IL</td>\n      <td>Chicago</td>\n      <td>Cook</td>\n      <td>3</td>\n      <td>2007-01</td>\n      <td>386400.0</td>\n    </tr>\n    <tr>\n      <th>3</th>\n      <td>ZHVI</td>\n      <td>79936</td>\n      <td>El Paso</td>\n      <td>TX</td>\n      <td>El Paso</td>\n      <td>El Paso</td>\n      <td>4</td>\n      <td>2007-01</td>\n      <td>127000.0</td>\n    </tr>\n    <tr>\n      <th>4</th>\n      <td>ZHVI</td>\n      <td>60640</td>\n      <td>Chicago</td>\n      <td>IL</td>\n      <td>Chicago</td>\n      <td>Cook</td>\n      <td>5</td>\n      <td>2007-01</td>\n      <td>237000.0</td>\n    </tr>\n    <tr>\n      <th>...</th>\n      <td>...</td>\n      <td>...</td>\n      <td>...</td>\n      <td>...</td>\n      <td>...</td>\n      <td>...</td>\n      <td>...</td>\n      <td>...</td>\n      <td>...</td>\n    </tr>\n    <tr>\n      <th>3667981</th>\n      <td>ZRI</td>\n      <td>12720</td>\n      <td>Bethel</td>\n      <td>NY</td>\n      <td>Empty</td>\n      <td>Sullivan</td>\n      <td>15907</td>\n      <td>2017-06</td>\n      <td>1206.0</td>\n    </tr>\n    <tr>\n      <th>3667982</th>\n      <td>ZRI</td>\n      <td>1338</td>\n      <td>Shelburne Falls</td>\n      <td>MA</td>\n      <td>Greenfield Town</td>\n      <td>Franklin</td>\n      <td>15908</td>\n      <td>2017-06</td>\n      <td>1795.0</td>\n    </tr>\n    <tr>\n      <th>3667983</th>\n      <td>ZRI</td>\n      <td>21405</td>\n      <td>Annapolis</td>\n      <td>MD</td>\n      <td>Baltimore</td>\n      <td>Anne Arundel</td>\n      <td>15909</td>\n      <td>2017-06</td>\n      <td>3471.0</td>\n    </tr>\n    <tr>\n      <th>3667984</th>\n      <td>ZRI</td>\n      <td>85220</td>\n      <td>Apache Junction</td>\n      <td>AZ</td>\n      <td>Phoenix</td>\n      <td>Pinal</td>\n      <td>15910</td>\n      <td>2017-06</td>\n      <td>1080.0</td>\n    </tr>\n    <tr>\n      <th>3667985</th>\n      <td>ZRI</td>\n      <td>89595</td>\n      <td>Reno</td>\n      <td>NV</td>\n      <td>Reno</td>\n      <td>Washoe</td>\n      <td>15911</td>\n      <td>2017-06</td>\n      <td>848.0</td>\n    </tr>\n  </tbody>\n</table>\n<p>3667986 rows × 9 columns</p>\n</div>"
     },
     "metadata": {},
     "execution_count": 69
    }
   ],
   "source": [
    "realestate_df = realestate_df.dropna()\n",
    "print('new dataframe shape: ', realestate_df.shape)\n",
    "realestate_df"
   ]
  },
  {
   "source": [
    "The relevant features we will use in this case are:\n",
    "\n",
    "1. **zipcode:** code to identify the real estate\n",
    "2. **city:** name of the city where is located the real estate\n",
    "3. **state:** name of the state where is located the real estate\n",
    "4. **county:** name of the county where is located the real estate\n",
    "5. **date:** date reference for the real estate value \n",
    "6. **value:** value of the real estate in a specific date\""
   ],
   "cell_type": "markdown",
   "metadata": {}
  },
  {
   "source": [
    "## Detecting Outliers in a Data-Set:"
   ],
   "cell_type": "markdown",
   "metadata": {}
  },
  {
   "source": [
    "##  Change Date column to datetime"
   ],
   "cell_type": "markdown",
   "metadata": {}
  },
  {
   "cell_type": "code",
   "execution_count": 70,
   "metadata": {},
   "outputs": [
    {
     "output_type": "error",
     "ename": "NameError",
     "evalue": "name 'realstate' is not defined",
     "traceback": [
      "\u001b[1;31m---------------------------------------------------------------------------\u001b[0m",
      "\u001b[1;31mNameError\u001b[0m                                 Traceback (most recent call last)",
      "\u001b[1;32m<ipython-input-70-8a90940cd8e1>\u001b[0m in \u001b[0;36m<module>\u001b[1;34m\u001b[0m\n\u001b[0;32m      1\u001b[0m \u001b[0mrealestate_df\u001b[0m\u001b[1;33m[\u001b[0m\u001b[1;34m'date'\u001b[0m\u001b[1;33m]\u001b[0m \u001b[1;33m=\u001b[0m \u001b[0mpd\u001b[0m\u001b[1;33m.\u001b[0m\u001b[0mto_datetime\u001b[0m\u001b[1;33m(\u001b[0m\u001b[0mrealestate_df\u001b[0m\u001b[1;33m[\u001b[0m\u001b[1;34m'date'\u001b[0m\u001b[1;33m]\u001b[0m\u001b[1;33m,\u001b[0m \u001b[0mformat\u001b[0m\u001b[1;33m=\u001b[0m\u001b[1;34m'%Y-%m'\u001b[0m\u001b[1;33m)\u001b[0m\u001b[1;33m\u001b[0m\u001b[1;33m\u001b[0m\u001b[0m\n\u001b[1;32m----> 2\u001b[1;33m \u001b[0mrealstate\u001b[0m\u001b[1;33m.\u001b[0m\u001b[0minfo\u001b[0m\u001b[1;33m(\u001b[0m\u001b[1;33m)\u001b[0m\u001b[1;33m\u001b[0m\u001b[1;33m\u001b[0m\u001b[0m\n\u001b[0m",
      "\u001b[1;31mNameError\u001b[0m: name 'realstate' is not defined"
     ]
    }
   ],
   "source": [
    "realestate_df['date'] = pd.to_datetime(realestate_df['date'], format='%Y-%m')\n",
    "realstate.info()"
   ]
  },
  {
   "source": [
    "## Creating month and year columns"
   ],
   "cell_type": "markdown",
   "metadata": {}
  },
  {
   "cell_type": "code",
   "execution_count": 20,
   "metadata": {},
   "outputs": [],
   "source": [
    "realestate_df['year'] = pd.DatetimeIndex(realestate_df['date']).year\n",
    "realestate_df['month'] = pd.DatetimeIndex(realestate_df['date']).month\n",
    "realestate_df"
   ]
  },
  {
   "source": [
    "## Fill zipcode with 0"
   ],
   "cell_type": "markdown",
   "metadata": {}
  },
  {
   "cell_type": "code",
   "execution_count": 21,
   "metadata": {},
   "outputs": [],
   "source": [
    "realestate_df['zipcode']=realestate_df['zipcode'].astype(str)\n",
    "realestate_df['zipcode'] =realestate_df['zipcode'].apply(lambda x: x.zfill(5))\n",
    "realestate_df"
   ]
  },
  {
   "source": [
    "## Creating ZHVI and ZRI dataframe"
   ],
   "cell_type": "markdown",
   "metadata": {}
  },
  {
   "cell_type": "code",
   "execution_count": 22,
   "metadata": {},
   "outputs": [],
   "source": [
    "rszhvi= realestate_df[ realestate_df['type'].isin(['ZHVI'])]\n",
    "rszhvi\""
   ]
  },
  {
   "cell_type": "code",
   "execution_count": 23,
   "metadata": {},
   "outputs": [],
   "source": [
    "rszri= realestate_df[ realestate_df['type'].isin(['ZHVI'])]\n",
    "rszri"
   ]
  },
  {
   "source": [
    "## Histogram RS"
   ],
   "cell_type": "markdown",
   "metadata": {}
  },
  {
   "cell_type": "code",
   "execution_count": 24,
   "metadata": {},
   "outputs": [],
   "source": [
    "#plt.figure(figsize=(4, 4))\n",
    "#plt.hist(rszhvi['Value'],bins = 30 )\n",
    "#None"
   ]
  },
  {
   "source": [
    "## Real Estate df unique count"
   ],
   "cell_type": "markdown",
   "metadata": {}
  },
  {
   "cell_type": "code",
   "execution_count": 25,
   "metadata": {},
   "outputs": [
    {
     "output_type": "stream",
     "name": "stdout",
     "text": [
      "Count of unique values of type : 1\n",
      "Count of unique values of zipcode : 13200\n",
      "Count of unique values of city : 6975\n",
      "Count of unique values of state : 49\n",
      "Count of unique values of metro : 579\n",
      "Count of unique values of county : 937\n",
      "Count of unique values of size_rank : 13200\n",
      "Count of unique values of date : 126\n",
      "Count of unique values of Value : 19664\n",
      "Count of unique values of year : 11\n",
      "Count of unique values of month : 12\n"
     ]
    }
   ],
   "source": [
    "for col in realestate_df:\n",
    "    uni=len(rszhvi[col].unique())\n",
    "    print('Count of unique values of',col, ':', uni)"
   ]
  },
  {
   "source": [
    "## Counts per State Plot"
   ],
   "cell_type": "markdown",
   "metadata": {}
  },
  {
   "cell_type": "code",
   "execution_count": 26,
   "metadata": {},
   "outputs": [],
   "source": [
    "#plt.figure(figsize=(5, 5))\n",
    "#sns.countplot(y='state', data= rszhvi )\n",
    "#plt.xlabel('Count', fontsize=12)\n",
    "#plt.ylabel('State', fontsize=12)\n",
    "#plt.show()  "
   ]
  },
  {
   "source": [
    "## Count of citys and countys"
   ],
   "cell_type": "markdown",
   "metadata": {}
  },
  {
   "cell_type": "code",
   "execution_count": 27,
   "metadata": {},
   "outputs": [
    {
     "output_type": "stream",
     "name": "stdout",
     "text": [
      "city\nNew York        13986\nLos Angeles     12222\nChicago          6678\nPhiladelphia     5670\nPhoenix          5040\n                ...  \nTalbott           126\nManvel            126\nTakoma Park       126\nMaple Falls       126\nZumbro Falls      126\nLength: 6975, dtype: int64 \n\ncounty\nLos Angeles    33138\nWashington     21924\nOrange         21168\nJefferson      19908\nCook           19530\n               ...  \nMoffat           126\nMonongalia       126\nCatahoula        126\nMontague         126\nZavala           126\nLength: 937, dtype: int64\n"
     ]
    }
   ],
   "source": [
    "cityc = rszhvi.groupby(['city']).size().sort_values(ascending=False)[:]\n",
    "print(cityc, '\\n') \n",
    "  \n",
    "countyc = rszhvi.groupby(['county']).size().sort_values(ascending=False)[:]\n",
    "print(countyc)"
   ]
  },
  {
   "source": [
    "## Relationships Between Value ans Size Rank Real Estate"
   ],
   "cell_type": "markdown",
   "metadata": {}
  },
  {
   "cell_type": "code",
   "execution_count": 28,
   "metadata": {},
   "outputs": [],
   "source": [
    "#sns.jointplot(x=rszhvi['Value'], y=rszhvi['size_rank']);"
   ]
  },
  {
   "source": [
    "## Average Value per State"
   ],
   "cell_type": "markdown",
   "metadata": {}
  },
  {
   "cell_type": "code",
   "execution_count": 29,
   "metadata": {},
   "outputs": [],
   "source": [
    "realestate_out = rszhvi.groupby(['zipcode','year','state','city','county'])['Value'].mean().reset_index()\n",
    "    \n",
    "#plt.figure(figsize=(5, 5))\n",
    "#sns.stripplot(x=\"Value\", y=\"state\", data=realestate_out, size= 1 )\n",
    "#plt.xlabel('State', fontsize=12)\n",
    "#plt.ylabel('Value Real Estate', fontsize=12)\n",
    "#plt.show()"
   ]
  },
  {
   "source": [
    "## Check the real estate with the maximum mean value over the years"
   ],
   "cell_type": "markdown",
   "metadata": {}
  },
  {
   "cell_type": "code",
   "execution_count": 30,
   "metadata": {},
   "outputs": [
    {
     "output_type": "execute_result",
     "data": {
      "text/plain": [
       "city        Atherton\n",
       "state             CA\n",
       "Value    6.25295e+06\n",
       "Name: 133121, dtype: object"
      ]
     },
     "metadata": {},
     "execution_count": 30
    }
   ],
   "source": [
    "realestate_out[['city','state','Value']].iloc[realestate_out['Value'].idxmax()]"
   ]
  },
  {
   "source": [
    "## Basic statistical details of Real Estate values over the States"
   ],
   "cell_type": "markdown",
   "metadata": {}
  },
  {
   "cell_type": "code",
   "execution_count": 31,
   "metadata": {},
   "outputs": [
    {
     "output_type": "execute_result",
     "data": {
      "text/plain": [
       "count    1.452000e+05\n",
       "mean     2.297079e+05\n",
       "std      2.078295e+05\n",
       "min      2.712500e+04\n",
       "25%      1.165146e+05\n",
       "50%      1.690083e+05\n",
       "75%      2.710771e+05\n",
       "max      6.252950e+06\n",
       "Name: Value, dtype: float64"
      ]
     },
     "metadata": {},
     "execution_count": 31
    }
   ],
   "source": [
    "realestate_out['Value'].describe()"
   ]
  },
  {
   "cell_type": "code",
   "execution_count": 32,
   "metadata": {},
   "outputs": [
    {
     "output_type": "execute_result",
     "data": {
      "text/plain": [
       "49"
      ]
     },
     "metadata": {},
     "execution_count": 32
    }
   ],
   "source": [
    "realestate_out['state'].nunique()"
   ]
  },
  {
   "source": [
    "## Data Type columns"
   ],
   "cell_type": "markdown",
   "metadata": {}
  },
  {
   "cell_type": "code",
   "execution_count": 33,
   "metadata": {},
   "outputs": [
    {
     "output_type": "stream",
     "name": "stdout",
     "text": [
      "data types: \\n type                 object\nzipcode              object\ncity                 object\nstate                object\nmetro                object\ncounty               object\nsize_rank             int64\ndate         datetime64[ns]\nValue               float64\nyear                  int64\nmonth                 int64\ndtype: object\n"
     ]
    }
   ],
   "source": [
    "print('data types: \\\\n', realestate_df.dtypes)"
   ]
  },
  {
   "source": [
    "## Year Real Estate Values Trends"
   ],
   "cell_type": "markdown",
   "metadata": {}
  },
  {
   "source": [
    "# Agrupacion por zipcode , year , state, Valor promedio"
   ],
   "cell_type": "markdown",
   "metadata": {}
  },
  {
   "cell_type": "code",
   "execution_count": 34,
   "metadata": {},
   "outputs": [],
   "source": [
    "realestate_df2 = rszhvi.groupby(['type','zipcode', 'year','state','city'])['Value'].mean().reset_index()\n",
    "realestate_df2"
   ]
  },
  {
   "cell_type": "code",
   "execution_count": 35,
   "metadata": {},
   "outputs": [],
   "source": [
    "#plt.figure(figsize=(7,3))\n",
    "#g=sns.stripplot (data=realestate_df2, x='year', y= 'Value')\n",
    "#g.set_yscale(\\\"log\\\")\\n\",\n",
    "#plt.xticks (rotation=90,fontsize= 12)#ha='right'\\n\",\n",
    "#None"
   ]
  },
  {
   "cell_type": "code",
   "execution_count": 36,
   "metadata": {},
   "outputs": [],
   "source": [
    "#g= sns.FacetGrid(realestate_df2, col_wrap=3, col ='state', aspect=1.20, height=5)\\n\",\n",
    "#g.map_dataframe (sns.stripplot, x='year', y= 'Value',hue='year')\\n\",\n",
    "#g.add_legend()\\n\",\n",
    "#g.set_yticklabels(fontsize= 8 )\\n\",\n",
    "#g.set_yticklabels(fontsize= 8 )\\n\",\n",
    "#g.set_titles(fontsize= 12 )\""
   ]
  },
  {
   "source": [
    "## Mean Value per Zipcode"
   ],
   "cell_type": "markdown",
   "metadata": {}
  },
  {
   "source": [
    "# Agrupacion por  state, y city  Valor promedio"
   ],
   "cell_type": "markdown",
   "metadata": {}
  },
  {
   "cell_type": "code",
   "execution_count": 37,
   "metadata": {},
   "outputs": [
    {
     "output_type": "execute_result",
     "data": {
      "text/plain": [
       "      state       county zipcode         Value\n",
       "0        CA    San Mateo   94027  4.078230e+06\n",
       "1        CA  Los Angeles   90210  3.507410e+06\n",
       "2        NY      Suffolk   11976  2.857306e+06\n",
       "3        CA    San Diego   92067  2.735399e+06\n",
       "4        CA  Los Angeles   90402  2.617714e+06\n",
       "...     ...          ...     ...           ...\n",
       "13195    PA      Cambria   15901  3.457619e+04\n",
       "13196    OH     Mahoning   44510  3.157349e+04\n",
       "13197    OH     Mahoning   44507  3.153373e+04\n",
       "13198    OH     Mahoning   44502  3.116386e+04\n",
       "13199    OH     Mahoning   44506  3.084337e+04\n",
       "\n",
       "[13200 rows x 4 columns]"
      ],
      "text/html": "<div>\n<style scoped>\n    .dataframe tbody tr th:only-of-type {\n        vertical-align: middle;\n    }\n\n    .dataframe tbody tr th {\n        vertical-align: top;\n    }\n\n    .dataframe thead th {\n        text-align: right;\n    }\n</style>\n<table border=\"1\" class=\"dataframe\">\n  <thead>\n    <tr style=\"text-align: right;\">\n      <th></th>\n      <th>state</th>\n      <th>county</th>\n      <th>zipcode</th>\n      <th>Value</th>\n    </tr>\n  </thead>\n  <tbody>\n    <tr>\n      <th>0</th>\n      <td>CA</td>\n      <td>San Mateo</td>\n      <td>94027</td>\n      <td>4.078230e+06</td>\n    </tr>\n    <tr>\n      <th>1</th>\n      <td>CA</td>\n      <td>Los Angeles</td>\n      <td>90210</td>\n      <td>3.507410e+06</td>\n    </tr>\n    <tr>\n      <th>2</th>\n      <td>NY</td>\n      <td>Suffolk</td>\n      <td>11976</td>\n      <td>2.857306e+06</td>\n    </tr>\n    <tr>\n      <th>3</th>\n      <td>CA</td>\n      <td>San Diego</td>\n      <td>92067</td>\n      <td>2.735399e+06</td>\n    </tr>\n    <tr>\n      <th>4</th>\n      <td>CA</td>\n      <td>Los Angeles</td>\n      <td>90402</td>\n      <td>2.617714e+06</td>\n    </tr>\n    <tr>\n      <th>...</th>\n      <td>...</td>\n      <td>...</td>\n      <td>...</td>\n      <td>...</td>\n    </tr>\n    <tr>\n      <th>13195</th>\n      <td>PA</td>\n      <td>Cambria</td>\n      <td>15901</td>\n      <td>3.457619e+04</td>\n    </tr>\n    <tr>\n      <th>13196</th>\n      <td>OH</td>\n      <td>Mahoning</td>\n      <td>44510</td>\n      <td>3.157349e+04</td>\n    </tr>\n    <tr>\n      <th>13197</th>\n      <td>OH</td>\n      <td>Mahoning</td>\n      <td>44507</td>\n      <td>3.153373e+04</td>\n    </tr>\n    <tr>\n      <th>13198</th>\n      <td>OH</td>\n      <td>Mahoning</td>\n      <td>44502</td>\n      <td>3.116386e+04</td>\n    </tr>\n    <tr>\n      <th>13199</th>\n      <td>OH</td>\n      <td>Mahoning</td>\n      <td>44506</td>\n      <td>3.084337e+04</td>\n    </tr>\n  </tbody>\n</table>\n<p>13200 rows × 4 columns</p>\n</div>"
     },
     "metadata": {},
     "execution_count": 37
    }
   ],
   "source": [
    "realestate_df3 = rszhvi.groupby(['state','county','zipcode'])['Value'].mean().sort_values(ascending=False).reset_index()\n",
    "realestate_df3"
   ]
  },
  {
   "source": [
    "## Mean Values per City"
   ],
   "cell_type": "markdown",
   "metadata": {}
  },
  {
   "cell_type": "code",
   "execution_count": 38,
   "metadata": {},
   "outputs": [
    {
     "output_type": "execute_result",
     "data": {
      "text/plain": [
       "                 city         Value\n",
       "0            Atherton  4.078230e+06\n",
       "1          Water Mill  2.857306e+06\n",
       "2      Portola Valley  2.466803e+06\n",
       "3              Malibu  2.393843e+06\n",
       "4     Rancho Santa Fe  2.368692e+06\n",
       "...               ...           ...\n",
       "6970  Washington Park  4.354286e+04\n",
       "6971      River Rouge  4.347381e+04\n",
       "6972           Ecorse  4.272381e+04\n",
       "6973   North Braddock  4.268254e+04\n",
       "6974         Duquesne  4.184921e+04\n",
       "\n",
       "[6975 rows x 2 columns]"
      ],
      "text/html": "<div>\n<style scoped>\n    .dataframe tbody tr th:only-of-type {\n        vertical-align: middle;\n    }\n\n    .dataframe tbody tr th {\n        vertical-align: top;\n    }\n\n    .dataframe thead th {\n        text-align: right;\n    }\n</style>\n<table border=\"1\" class=\"dataframe\">\n  <thead>\n    <tr style=\"text-align: right;\">\n      <th></th>\n      <th>city</th>\n      <th>Value</th>\n    </tr>\n  </thead>\n  <tbody>\n    <tr>\n      <th>0</th>\n      <td>Atherton</td>\n      <td>4.078230e+06</td>\n    </tr>\n    <tr>\n      <th>1</th>\n      <td>Water Mill</td>\n      <td>2.857306e+06</td>\n    </tr>\n    <tr>\n      <th>2</th>\n      <td>Portola Valley</td>\n      <td>2.466803e+06</td>\n    </tr>\n    <tr>\n      <th>3</th>\n      <td>Malibu</td>\n      <td>2.393843e+06</td>\n    </tr>\n    <tr>\n      <th>4</th>\n      <td>Rancho Santa Fe</td>\n      <td>2.368692e+06</td>\n    </tr>\n    <tr>\n      <th>...</th>\n      <td>...</td>\n      <td>...</td>\n    </tr>\n    <tr>\n      <th>6970</th>\n      <td>Washington Park</td>\n      <td>4.354286e+04</td>\n    </tr>\n    <tr>\n      <th>6971</th>\n      <td>River Rouge</td>\n      <td>4.347381e+04</td>\n    </tr>\n    <tr>\n      <th>6972</th>\n      <td>Ecorse</td>\n      <td>4.272381e+04</td>\n    </tr>\n    <tr>\n      <th>6973</th>\n      <td>North Braddock</td>\n      <td>4.268254e+04</td>\n    </tr>\n    <tr>\n      <th>6974</th>\n      <td>Duquesne</td>\n      <td>4.184921e+04</td>\n    </tr>\n  </tbody>\n</table>\n<p>6975 rows × 2 columns</p>\n</div>"
     },
     "metadata": {},
     "execution_count": 38
    }
   ],
   "source": [
    "realestate_df4 = rszhvi.groupby(['city'])['Value'].mean().sort_values(ascending=False)[:].reset_index()\n",
    "realestate_df4"
   ]
  },
  {
   "cell_type": "code",
   "execution_count": 39,
   "metadata": {},
   "outputs": [],
   "source": [
    "#plt.figure(figsize=(12,10))\n",
    "#realstate.groupby('city').size().sort_values(ascending=False)[:30].plot.barh()"
   ]
  },
  {
   "cell_type": "code",
   "execution_count": 40,
   "metadata": {},
   "outputs": [
    {
     "output_type": "execute_result",
     "data": {
      "text/plain": [
       "                      Value\n",
       "                      count\n",
       "city          zipcode      \n",
       "Abbeville     31001     126\n",
       "              38601     126\n",
       "Aberdeen      21001     126\n",
       "              28315     126\n",
       "              39730     126\n",
       "...                     ...\n",
       "Zion          60099     126\n",
       "Zionsville    46077     126\n",
       "Zirconia      28790     126\n",
       "Zolfo Springs 33890     126\n",
       "Zumbro Falls  55991     126\n",
       "\n",
       "[13200 rows x 1 columns]"
      ],
      "text/html": "<div>\n<style scoped>\n    .dataframe tbody tr th:only-of-type {\n        vertical-align: middle;\n    }\n\n    .dataframe tbody tr th {\n        vertical-align: top;\n    }\n\n    .dataframe thead tr th {\n        text-align: left;\n    }\n\n    .dataframe thead tr:last-of-type th {\n        text-align: right;\n    }\n</style>\n<table border=\"1\" class=\"dataframe\">\n  <thead>\n    <tr>\n      <th></th>\n      <th></th>\n      <th>Value</th>\n    </tr>\n    <tr>\n      <th></th>\n      <th></th>\n      <th>count</th>\n    </tr>\n    <tr>\n      <th>city</th>\n      <th>zipcode</th>\n      <th></th>\n    </tr>\n  </thead>\n  <tbody>\n    <tr>\n      <th rowspan=\"2\" valign=\"top\">Abbeville</th>\n      <th>31001</th>\n      <td>126</td>\n    </tr>\n    <tr>\n      <th>38601</th>\n      <td>126</td>\n    </tr>\n    <tr>\n      <th rowspan=\"3\" valign=\"top\">Aberdeen</th>\n      <th>21001</th>\n      <td>126</td>\n    </tr>\n    <tr>\n      <th>28315</th>\n      <td>126</td>\n    </tr>\n    <tr>\n      <th>39730</th>\n      <td>126</td>\n    </tr>\n    <tr>\n      <th>...</th>\n      <th>...</th>\n      <td>...</td>\n    </tr>\n    <tr>\n      <th>Zion</th>\n      <th>60099</th>\n      <td>126</td>\n    </tr>\n    <tr>\n      <th>Zionsville</th>\n      <th>46077</th>\n      <td>126</td>\n    </tr>\n    <tr>\n      <th>Zirconia</th>\n      <th>28790</th>\n      <td>126</td>\n    </tr>\n    <tr>\n      <th>Zolfo Springs</th>\n      <th>33890</th>\n      <td>126</td>\n    </tr>\n    <tr>\n      <th>Zumbro Falls</th>\n      <th>55991</th>\n      <td>126</td>\n    </tr>\n  </tbody>\n</table>\n<p>13200 rows × 1 columns</p>\n</div>"
     },
     "metadata": {},
     "execution_count": 40
    }
   ],
   "source": [
    "rszhvi[['city','zipcode','Value']].groupby(['city', 'zipcode']).agg(['count'])"
   ]
  },
  {
   "cell_type": "code",
   "execution_count": 41,
   "metadata": {},
   "outputs": [
    {
     "output_type": "execute_result",
     "data": {
      "text/plain": [
       "11426    126\n",
       "95776    126\n",
       "17222    126\n",
       "35811    126\n",
       "91740    126\n",
       "        ... \n",
       "30265    126\n",
       "27302    126\n",
       "08690    126\n",
       "44608    126\n",
       "29583    126\n",
       "Name: zipcode, Length: 13200, dtype: int64"
      ]
     },
     "metadata": {},
     "execution_count": 41
    }
   ],
   "source": [
    "rszhvi.zipcode.value_counts()"
   ]
  },
  {
   "cell_type": "code",
   "execution_count": 42,
   "metadata": {},
   "outputs": [
    {
     "output_type": "execute_result",
     "data": {
      "text/plain": [
       "13200"
      ]
     },
     "metadata": {},
     "execution_count": 42
    }
   ],
   "source": [
    "rszhvi.zipcode.nunique()"
   ]
  },
  {
   "source": [
    "## Read listings csv"
   ],
   "cell_type": "markdown",
   "metadata": {}
  },
  {
   "cell_type": "code",
   "execution_count": 43,
   "metadata": {},
   "outputs": [],
   "source": [
    "listings_df= pd.read_csv(\"data/listings.csv\")\n",
    "listings_df"
   ]
  },
  {
   "source": [
    "## Clean zip code Listings"
   ],
   "cell_type": "markdown",
   "metadata": {}
  },
  {
   "source": [
    "## Check zipcodes greater and less than 5 strings"
   ],
   "cell_type": "markdown",
   "metadata": {}
  },
  {
   "cell_type": "code",
   "execution_count": 44,
   "metadata": {},
   "outputs": [],
   "source": [
    "#listings_df[listings_df['zipcode'].str.len()>5]\n",
    "#listings_df[listings_df['zipcode'].str.len()<5]\""
   ]
  },
  {
   "source": [
    "## Clean zip code Listings > 5 strings"
   ],
   "cell_type": "markdown",
   "metadata": {}
  },
  {
   "cell_type": "code",
   "execution_count": 45,
   "metadata": {},
   "outputs": [
    {
     "output_type": "execute_result",
     "data": {
      "text/plain": [
       "   accommodates                                          amenities  \\\n",
       "0           2.0  {\"Cable TV\",\"Wireless Internet\",\"Air condition...   \n",
       "1           4.0  {TV,Internet,\"Wireless Internet\",\"Air conditio...   \n",
       "2           4.0  {TV,\"Cable TV\",Internet,\"Wireless Internet\",\"A...   \n",
       "3           3.0  {TV,Internet,\"Wireless Internet\",\"Air conditio...   \n",
       "4           4.0  {Internet,\"Wireless Internet\",\"Air conditionin...   \n",
       "\n",
       "   availability_30  bathrooms  bed_type  bedrooms  beds cancellation_policy  \\\n",
       "0               24        1.0  Real Bed       1.0   1.0            moderate   \n",
       "1               30        1.0  Real Bed       1.0   1.0            flexible   \n",
       "2               30        3.0  Real Bed       3.0   3.0              strict   \n",
       "3                8        1.0  Real Bed       1.0   1.0              strict   \n",
       "4               17        1.0  Real Bed       1.0   1.0            moderate   \n",
       "\n",
       "               city  has_availability  ...  review_scores_cleanliness  \\\n",
       "0    sunnysidebronx               NaN  ...                       10.0   \n",
       "1    sunnysidebronx               NaN  ...                        NaN   \n",
       "2    sunnysidebronx               NaN  ...                        NaN   \n",
       "3  long island city               NaN  ...                       10.0   \n",
       "4    sunnysidebronx               NaN  ...                       10.0   \n",
       "\n",
       "   review_scores_communication review_scores_location  review_scores_rating  \\\n",
       "0                         10.0                   10.0                 100.0   \n",
       "1                          NaN                    NaN                   NaN   \n",
       "2                          NaN                    NaN                   NaN   \n",
       "3                         10.0                   10.0                  93.0   \n",
       "4                         10.0                   10.0                  97.0   \n",
       "\n",
       "   review_scores_value        room_type state  weekly_price zipcode  \\\n",
       "0                 10.0     Private room    NY           NaN   10464   \n",
       "1                  NaN     Private room    NY           NaN   10464   \n",
       "2                  NaN  Entire home/apt    NY           NaN   10464   \n",
       "3                 10.0  Entire home/apt    NY         775.0   10464   \n",
       "4                 10.0     Private room    NY         350.0   10464   \n",
       "\n",
       "   zipcode_clean  \n",
       "0          10464  \n",
       "1          10464  \n",
       "2          10464  \n",
       "3          10464  \n",
       "4          10464  \n",
       "\n",
       "[5 rows x 30 columns]"
      ],
      "text/html": "<div>\n<style scoped>\n    .dataframe tbody tr th:only-of-type {\n        vertical-align: middle;\n    }\n\n    .dataframe tbody tr th {\n        vertical-align: top;\n    }\n\n    .dataframe thead th {\n        text-align: right;\n    }\n</style>\n<table border=\"1\" class=\"dataframe\">\n  <thead>\n    <tr style=\"text-align: right;\">\n      <th></th>\n      <th>accommodates</th>\n      <th>amenities</th>\n      <th>availability_30</th>\n      <th>bathrooms</th>\n      <th>bed_type</th>\n      <th>bedrooms</th>\n      <th>beds</th>\n      <th>cancellation_policy</th>\n      <th>city</th>\n      <th>has_availability</th>\n      <th>...</th>\n      <th>review_scores_cleanliness</th>\n      <th>review_scores_communication</th>\n      <th>review_scores_location</th>\n      <th>review_scores_rating</th>\n      <th>review_scores_value</th>\n      <th>room_type</th>\n      <th>state</th>\n      <th>weekly_price</th>\n      <th>zipcode</th>\n      <th>zipcode_clean</th>\n    </tr>\n  </thead>\n  <tbody>\n    <tr>\n      <th>0</th>\n      <td>2.0</td>\n      <td>{\"Cable TV\",\"Wireless Internet\",\"Air condition...</td>\n      <td>24</td>\n      <td>1.0</td>\n      <td>Real Bed</td>\n      <td>1.0</td>\n      <td>1.0</td>\n      <td>moderate</td>\n      <td>sunnysidebronx</td>\n      <td>NaN</td>\n      <td>...</td>\n      <td>10.0</td>\n      <td>10.0</td>\n      <td>10.0</td>\n      <td>100.0</td>\n      <td>10.0</td>\n      <td>Private room</td>\n      <td>NY</td>\n      <td>NaN</td>\n      <td>10464</td>\n      <td>10464</td>\n    </tr>\n    <tr>\n      <th>1</th>\n      <td>4.0</td>\n      <td>{TV,Internet,\"Wireless Internet\",\"Air conditio...</td>\n      <td>30</td>\n      <td>1.0</td>\n      <td>Real Bed</td>\n      <td>1.0</td>\n      <td>1.0</td>\n      <td>flexible</td>\n      <td>sunnysidebronx</td>\n      <td>NaN</td>\n      <td>...</td>\n      <td>NaN</td>\n      <td>NaN</td>\n      <td>NaN</td>\n      <td>NaN</td>\n      <td>NaN</td>\n      <td>Private room</td>\n      <td>NY</td>\n      <td>NaN</td>\n      <td>10464</td>\n      <td>10464</td>\n    </tr>\n    <tr>\n      <th>2</th>\n      <td>4.0</td>\n      <td>{TV,\"Cable TV\",Internet,\"Wireless Internet\",\"A...</td>\n      <td>30</td>\n      <td>3.0</td>\n      <td>Real Bed</td>\n      <td>3.0</td>\n      <td>3.0</td>\n      <td>strict</td>\n      <td>sunnysidebronx</td>\n      <td>NaN</td>\n      <td>...</td>\n      <td>NaN</td>\n      <td>NaN</td>\n      <td>NaN</td>\n      <td>NaN</td>\n      <td>NaN</td>\n      <td>Entire home/apt</td>\n      <td>NY</td>\n      <td>NaN</td>\n      <td>10464</td>\n      <td>10464</td>\n    </tr>\n    <tr>\n      <th>3</th>\n      <td>3.0</td>\n      <td>{TV,Internet,\"Wireless Internet\",\"Air conditio...</td>\n      <td>8</td>\n      <td>1.0</td>\n      <td>Real Bed</td>\n      <td>1.0</td>\n      <td>1.0</td>\n      <td>strict</td>\n      <td>long island city</td>\n      <td>NaN</td>\n      <td>...</td>\n      <td>10.0</td>\n      <td>10.0</td>\n      <td>10.0</td>\n      <td>93.0</td>\n      <td>10.0</td>\n      <td>Entire home/apt</td>\n      <td>NY</td>\n      <td>775.0</td>\n      <td>10464</td>\n      <td>10464</td>\n    </tr>\n    <tr>\n      <th>4</th>\n      <td>4.0</td>\n      <td>{Internet,\"Wireless Internet\",\"Air conditionin...</td>\n      <td>17</td>\n      <td>1.0</td>\n      <td>Real Bed</td>\n      <td>1.0</td>\n      <td>1.0</td>\n      <td>moderate</td>\n      <td>sunnysidebronx</td>\n      <td>NaN</td>\n      <td>...</td>\n      <td>10.0</td>\n      <td>10.0</td>\n      <td>10.0</td>\n      <td>97.0</td>\n      <td>10.0</td>\n      <td>Private room</td>\n      <td>NY</td>\n      <td>350.0</td>\n      <td>10464</td>\n      <td>10464</td>\n    </tr>\n  </tbody>\n</table>\n<p>5 rows × 30 columns</p>\n</div>"
     },
     "metadata": {},
     "execution_count": 45
    }
   ],
   "source": [
    "listings_df['zipcode_clean'] = list(listings_df['zipcode'].str.slice(0,5))\n",
    "listings_df.head()"
   ]
  },
  {
   "source": [
    "## Review Null Values for zipcode"
   ],
   "cell_type": "markdown",
   "metadata": {}
  },
  {
   "cell_type": "code",
   "execution_count": 46,
   "metadata": {},
   "outputs": [
    {
     "output_type": "stream",
     "name": "stdout",
     "text": [
      "null values: \n\naccommodates                      61\namenities                          0\navailability_30                    0\nbathrooms                        202\nbed_type                           0\nbedrooms                          95\nbeds                             109\ncancellation_policy                0\ncity                              46\nhas_availability               59824\nhost_id                            0\nid                                 0\ninstant_bookable                   0\nlatitude                           0\nlongitude                          0\nmetropolitan                       0\nname                              41\nprice                              0\nproperty_type                      4\nreview_scores_checkin          14346\nreview_scores_cleanliness      14280\nreview_scores_communication    14285\nreview_scores_location         14349\nreview_scores_rating           14200\nreview_scores_value            14354\nroom_type                          0\nstate                              0\nweekly_price                   46386\nzipcode                          826\nzipcode_clean                    826\ndtype: int64 \n\nTotal null values:  194234\n"
     ]
    }
   ],
   "source": [
    "print('null values: \\n',)\n",
    "print(listings_df.isna().sum(), '\\n')\n",
    "print('Total null values: ' ,listings_df.isna().sum().sum())"
   ]
  },
  {
   "source": [
    "## Checking zipcodes Null"
   ],
   "cell_type": "markdown",
   "metadata": {}
  },
  {
   "cell_type": "code",
   "execution_count": 47,
   "metadata": {},
   "outputs": [],
   "source": [
    "df1 = listings_df[listings_df['zipcode'].isna()]\n",
    "df1 = listings_df[listings_df['zipcode_clean'].isna()]\n",
    "df1"
   ]
  },
  {
   "source": [
    "## Drop zipcode null from zipcode clean"
   ],
   "cell_type": "markdown",
   "metadata": {}
  },
  {
   "source": [
    "## Drop zipcode null and > 5 strings  from zipcode clean"
   ],
   "cell_type": "markdown",
   "metadata": {}
  },
  {
   "cell_type": "code",
   "execution_count": 48,
   "metadata": {},
   "outputs": [
    {
     "output_type": "stream",
     "name": "stdout",
     "text": [
      "accommodates                      61\namenities                          0\navailability_30                    0\nbathrooms                        198\nbed_type                           0\nbedrooms                          83\nbeds                              80\ncancellation_policy                0\ncity                              40\nhas_availability               58995\nhost_id                            0\nid                                 0\ninstant_bookable                   0\nlatitude                           0\nlongitude                          0\nmetropolitan                       0\nname                              40\nprice                              0\nproperty_type                      4\nreview_scores_checkin          14071\nreview_scores_cleanliness      14005\nreview_scores_communication    14009\nreview_scores_location         14073\nreview_scores_rating           13927\nreview_scores_value            14079\nroom_type                          0\nstate                              0\nweekly_price                   45627\nzipcode                            0\nzipcode_clean                      0\ndtype: int64 \n\n"
     ]
    }
   ],
   "source": [
    "listings_df['zipcode_clean'].replace([' ','1m'],np.nan, inplace=True)\n",
    "listings_df=listings_df.dropna(subset=['zipcode_clean'])\n",
    "#listings_df\n",
    "print(listings_df.isna().sum(), '\\n')"
   ]
  },
  {
   "source": [
    "## Checking values space zipcode Listings"
   ],
   "cell_type": "markdown",
   "metadata": {}
  },
  {
   "cell_type": "code",
   "execution_count": 49,
   "metadata": {},
   "outputs": [],
   "source": [
    "#listings_df[listings_df['zipcode']== ' ']"
   ]
  },
  {
   "cell_type": "code",
   "execution_count": 50,
   "metadata": {},
   "outputs": [
    {
     "output_type": "execute_result",
     "data": {
      "text/plain": [
       "Empty DataFrame\n",
       "Columns: [accommodates, amenities, availability_30, bathrooms, bed_type, bedrooms, beds, cancellation_policy, city, has_availability, host_id, id, instant_bookable, latitude, longitude, metropolitan, name, price, property_type, review_scores_checkin, review_scores_cleanliness, review_scores_communication, review_scores_location, review_scores_rating, review_scores_value, room_type, state, weekly_price, zipcode, zipcode_clean]\n",
       "Index: []\n",
       "\n",
       "[0 rows x 30 columns]"
      ],
      "text/html": "<div>\n<style scoped>\n    .dataframe tbody tr th:only-of-type {\n        vertical-align: middle;\n    }\n\n    .dataframe tbody tr th {\n        vertical-align: top;\n    }\n\n    .dataframe thead th {\n        text-align: right;\n    }\n</style>\n<table border=\"1\" class=\"dataframe\">\n  <thead>\n    <tr style=\"text-align: right;\">\n      <th></th>\n      <th>accommodates</th>\n      <th>amenities</th>\n      <th>availability_30</th>\n      <th>bathrooms</th>\n      <th>bed_type</th>\n      <th>bedrooms</th>\n      <th>beds</th>\n      <th>cancellation_policy</th>\n      <th>city</th>\n      <th>has_availability</th>\n      <th>...</th>\n      <th>review_scores_cleanliness</th>\n      <th>review_scores_communication</th>\n      <th>review_scores_location</th>\n      <th>review_scores_rating</th>\n      <th>review_scores_value</th>\n      <th>room_type</th>\n      <th>state</th>\n      <th>weekly_price</th>\n      <th>zipcode</th>\n      <th>zipcode_clean</th>\n    </tr>\n  </thead>\n  <tbody>\n  </tbody>\n</table>\n<p>0 rows × 30 columns</p>\n</div>"
     },
     "metadata": {},
     "execution_count": 50
    }
   ],
   "source": [
    "listings_df[listings_df['zipcode_clean'].str.len()<5]\n",
    "listings_df[listings_df['zipcode_clean'].str.len()>5]"
   ]
  },
  {
   "cell_type": "code",
   "execution_count": 51,
   "metadata": {},
   "outputs": [
    {
     "output_type": "execute_result",
     "data": {
      "text/plain": [
       "(58995, 30)"
      ]
     },
     "metadata": {},
     "execution_count": 51
    }
   ],
   "source": [
    "listings_df.shape"
   ]
  },
  {
   "source": [
    "## Join Listings and Real Estate DFs by zipcode"
   ],
   "cell_type": "markdown",
   "metadata": {}
  },
  {
   "cell_type": "code",
   "execution_count": 52,
   "metadata": {},
   "outputs": [],
   "source": [
    "listings_rs= listings_df.set_index('zipcode_clean').join(realestate_df3.set_index('zipcode'), how='left',lsuffix = '_left', rsuffix = '_right')\n",
    "listings_rs=listings_rs.reset_index()\n",
    "listings_rs['zipcode']=listings_rs['zipcode'].str.slice(0,5)\n",
    "listings_rs"
   ]
  },
  {
   "source": [
    "## Check df by zipcode values"
   ],
   "cell_type": "markdown",
   "metadata": {}
  },
  {
   "cell_type": "code",
   "execution_count": 53,
   "metadata": {},
   "outputs": [],
   "source": [
    "#listings_rs[listings_rs['index']== '80249']"
   ]
  },
  {
   "source": [
    "## Limit listings df by property type"
   ],
   "cell_type": "markdown",
   "metadata": {}
  },
  {
   "cell_type": "code",
   "execution_count": 54,
   "metadata": {},
   "outputs": [],
   "source": [
    "listings_filt = (listings_rs[listings_rs['property_type'].isin(['Apartment',\n",
    "'House',\n",
    "'Condominium',\n",
    "'Townhouse',\n",
    "'Loft',\n",
    "'Bed & Breakfast'])])"
   ]
  },
  {
   "source": [
    "## Groupby of listings by price and value"
   ],
   "cell_type": "markdown",
   "metadata": {}
  },
  {
   "cell_type": "code",
   "execution_count": 55,
   "metadata": {},
   "outputs": [
    {
     "output_type": "execute_result",
     "data": {
      "text/plain": [
       "                                 price             Value               \n",
       "                                 count        mean count           mean\n",
       "zipcode city     property_type                                         \n",
       "02108   boston   Apartment          65  220.169231    65  821225.396825\n",
       "                 Bed & Breakfast     1  270.000000     1  821225.396825\n",
       "                 Condominium         5  189.800000     5  821225.396825\n",
       "                 House               1  690.000000     1  821225.396825\n",
       "                 Townhouse           1  700.000000     1  821225.396825\n",
       "...                                ...         ...   ...            ...\n",
       "80247   denver   Apartment          16   28.937500    16  118458.730159\n",
       "                 Condominium         2   77.500000     2  118458.730159\n",
       "                 House               2   46.500000     2  118458.730159\n",
       "80249   denver   House              27   82.740741    27  192773.809524\n",
       "99135   new york Apartment           1  340.000000     0            NaN\n",
       "\n",
       "[1605 rows x 4 columns]"
      ],
      "text/html": "<div>\n<style scoped>\n    .dataframe tbody tr th:only-of-type {\n        vertical-align: middle;\n    }\n\n    .dataframe tbody tr th {\n        vertical-align: top;\n    }\n\n    .dataframe thead tr th {\n        text-align: left;\n    }\n\n    .dataframe thead tr:last-of-type th {\n        text-align: right;\n    }\n</style>\n<table border=\"1\" class=\"dataframe\">\n  <thead>\n    <tr>\n      <th></th>\n      <th></th>\n      <th></th>\n      <th colspan=\"2\" halign=\"left\">price</th>\n      <th colspan=\"2\" halign=\"left\">Value</th>\n    </tr>\n    <tr>\n      <th></th>\n      <th></th>\n      <th></th>\n      <th>count</th>\n      <th>mean</th>\n      <th>count</th>\n      <th>mean</th>\n    </tr>\n    <tr>\n      <th>zipcode</th>\n      <th>city</th>\n      <th>property_type</th>\n      <th></th>\n      <th></th>\n      <th></th>\n      <th></th>\n    </tr>\n  </thead>\n  <tbody>\n    <tr>\n      <th rowspan=\"5\" valign=\"top\">02108</th>\n      <th rowspan=\"5\" valign=\"top\">boston</th>\n      <th>Apartment</th>\n      <td>65</td>\n      <td>220.169231</td>\n      <td>65</td>\n      <td>821225.396825</td>\n    </tr>\n    <tr>\n      <th>Bed &amp; Breakfast</th>\n      <td>1</td>\n      <td>270.000000</td>\n      <td>1</td>\n      <td>821225.396825</td>\n    </tr>\n    <tr>\n      <th>Condominium</th>\n      <td>5</td>\n      <td>189.800000</td>\n      <td>5</td>\n      <td>821225.396825</td>\n    </tr>\n    <tr>\n      <th>House</th>\n      <td>1</td>\n      <td>690.000000</td>\n      <td>1</td>\n      <td>821225.396825</td>\n    </tr>\n    <tr>\n      <th>Townhouse</th>\n      <td>1</td>\n      <td>700.000000</td>\n      <td>1</td>\n      <td>821225.396825</td>\n    </tr>\n    <tr>\n      <th>...</th>\n      <th>...</th>\n      <th>...</th>\n      <td>...</td>\n      <td>...</td>\n      <td>...</td>\n      <td>...</td>\n    </tr>\n    <tr>\n      <th rowspan=\"3\" valign=\"top\">80247</th>\n      <th rowspan=\"3\" valign=\"top\">denver</th>\n      <th>Apartment</th>\n      <td>16</td>\n      <td>28.937500</td>\n      <td>16</td>\n      <td>118458.730159</td>\n    </tr>\n    <tr>\n      <th>Condominium</th>\n      <td>2</td>\n      <td>77.500000</td>\n      <td>2</td>\n      <td>118458.730159</td>\n    </tr>\n    <tr>\n      <th>House</th>\n      <td>2</td>\n      <td>46.500000</td>\n      <td>2</td>\n      <td>118458.730159</td>\n    </tr>\n    <tr>\n      <th>80249</th>\n      <th>denver</th>\n      <th>House</th>\n      <td>27</td>\n      <td>82.740741</td>\n      <td>27</td>\n      <td>192773.809524</td>\n    </tr>\n    <tr>\n      <th>99135</th>\n      <th>new york</th>\n      <th>Apartment</th>\n      <td>1</td>\n      <td>340.000000</td>\n      <td>0</td>\n      <td>NaN</td>\n    </tr>\n  </tbody>\n</table>\n<p>1605 rows × 4 columns</p>\n</div>"
     },
     "metadata": {},
     "execution_count": 55
    }
   ],
   "source": [
    "pricevalue_df = listings_filt[['zipcode','city',\"property_type\",'price','Value']].groupby(['zipcode','city',\"property_type\"]).agg(['count', 'mean'])\n",
    "pricevalue_df"
   ]
  },
  {
   "source": [
    "## Check listings df by city"
   ],
   "cell_type": "markdown",
   "metadata": {}
  },
  {
   "cell_type": "code",
   "execution_count": 56,
   "metadata": {},
   "outputs": [],
   "source": [
    "#listings_rs[listings_rs['city']== 'washington']"
   ]
  }
 ]
}